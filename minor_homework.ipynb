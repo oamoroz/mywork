{
 "cells": [
  {
   "cell_type": "markdown",
   "id": "6dc1069a",
   "metadata": {},
   "source": [
    "Есть пользователи, которые ставят друг другу лайки. Создать таблицы для хранения инфы. Написать запрос, который выведет id пользователя, имя, лайков получено, лайков поставлено, взаимных лайков. Написать запрос, который посчитает 5 самых популярных пользователей"
   ]
  },
  {
   "cell_type": "code",
   "execution_count": 1,
   "id": "f34c191e",
   "metadata": {},
   "outputs": [
    {
     "name": "stdout",
     "output_type": "stream",
     "text": [
      "DROP TABLE IF EXISTS users;\n",
      "DROP TABLE IF EXISTS likes;\n",
      "CREATE TABLE users (\n",
      "                         user_id    INT       NOT NULL,\n",
      "                         name    TEXT       NOT NULL,\n",
      "                         created    TIMESTAMP NOT NULL\n",
      "                );\n",
      "                \n",
      "CREATE TABLE likes (\n",
      "                         user_id    INT       NOT NULL,\n",
      "                         created    TIMESTAMP NOT NULL,\n",
      "                         user_id_give    INT       NOT NULL\n",
      "                  );\n",
      "                \n"
     ]
    }
   ],
   "source": [
    "import psycopg2 as pg_driver\n",
    "\n",
    "db = pg_driver.connect(\n",
    "    database=\"testdb\", \n",
    "    user='testuser',\n",
    "    password='testuser', \n",
    "    host='localhost', \n",
    "    port='5432'\n",
    ")\n",
    "\n",
    "\n",
    "def execute_queries(db, sql_commands):\n",
    "    db.autocommit = True\n",
    "    with db.cursor() as cursor:\n",
    "        for sql_command in sql_commands:\n",
    "            print(sql_command)\n",
    "            cursor.execute(sql_command)\n",
    "                     \n",
    "sql_commands = [\"DROP TABLE IF EXISTS users;\",\n",
    "                \"DROP TABLE IF EXISTS likes;\",\n",
    "                \"\"\"CREATE TABLE users (\n",
    "                         user_id    INT       NOT NULL,\n",
    "                         name    TEXT       NOT NULL,\n",
    "                         created    TIMESTAMP NOT NULL\n",
    "                );\n",
    "                \"\"\",\n",
    "                \"\"\"CREATE TABLE likes (\n",
    "                         user_id    INT       NOT NULL,\n",
    "                         created    TIMESTAMP NOT NULL,\n",
    "                         user_id_give    INT       NOT NULL\n",
    "                  );\n",
    "                \"\"\"]\n",
    "\n",
    "\n",
    "execute_queries(db, sql_commands)"
   ]
  },
  {
   "cell_type": "code",
   "execution_count": 2,
   "id": "cc4e670a",
   "metadata": {},
   "outputs": [
    {
     "name": "stdout",
     "output_type": "stream",
     "text": [
      "[Record(count=0)]\n",
      "[Record(count=0)]\n"
     ]
    }
   ],
   "source": [
    "import psycopg2\n",
    "from psycopg2 import Error\n",
    "from psycopg2.extras import NamedTupleCursor\n",
    "\n",
    "def execute_query(query, fetch_result=False):\n",
    "    try:\n",
    "        connection = pg_driver.connect(\n",
    "                     database=\"testdb\", \n",
    "                     user='testuser',\n",
    "                     password='testuser', \n",
    "                     host='localhost', \n",
    "                     port='5432'\n",
    "                 );\n",
    "        \n",
    "        connection.autocommit = True\n",
    "        cursor = connection.cursor(cursor_factory=NamedTupleCursor)\n",
    "        cursor.execute(query)\n",
    "        if fetch_result:\n",
    "            return cursor.fetchall()\n",
    "    except (Exception, Error) as error:\n",
    "        print(\"Error while connecting to PostgreSQL\", error)\n",
    "    finally:\n",
    "        if (connection):\n",
    "            cursor.close()\n",
    "            connection.close()\n",
    "\n",
    "row_count_hist = execute_query(\"select count(*) from users\", fetch_result=True)\n",
    "row_count_payment = execute_query(\"select count(*) from likes\", fetch_result=True)\n",
    "\n",
    "print(row_count_hist)\n",
    "print(row_count_payment)"
   ]
  },
  {
   "cell_type": "code",
   "execution_count": 3,
   "id": "83273361",
   "metadata": {},
   "outputs": [],
   "source": [
    "query = \"\"\" INSERT INTO users (user_id, created, name) \n",
    "            VALUES \n",
    "                 (1, to_timestamp('16-05-2021 15:36:38', 'dd-mm-yyyy hh24:mi:ss'), 'Mark'),\n",
    "                 (2, to_timestamp('16-06-2018 14:36:38', 'dd-mm-yyyy hh24:mi:ss'), 'Dima'),\n",
    "                 (3, to_timestamp('16-07-2020 09:36:38', 'dd-mm-yyyy hh24:mi:ss'), 'Phill'),\n",
    "                 (4, to_timestamp('16-06-2018 15:36:38', 'dd-mm-yyyy hh24:mi:ss'), 'Viktor'),\n",
    "                 (5, to_timestamp('16-06-2018 16:36:38', 'dd-mm-yyyy hh24:mi:ss'), 'Ivan')\n",
    "                 \n",
    "            \n",
    "        \"\"\"\n",
    "\n",
    "execute_query(query)\n",
    "\n",
    "query = \"\"\" INSERT INTO likes (user_id, created, user_id_give) \n",
    "            VALUES \n",
    "                 (1, to_timestamp('16-05-2021 15:36:38', 'dd-mm-yyyy hh24:mi:ss'), 5),\n",
    "                 (2, to_timestamp('16-06-2018 14:36:38', 'dd-mm-yyyy hh24:mi:ss'), 4),\n",
    "                 (3, to_timestamp('16-07-2020 09:36:38', 'dd-mm-yyyy hh24:mi:ss'), 3),\n",
    "                 (4, to_timestamp('16-06-2018 15:36:38', 'dd-mm-yyyy hh24:mi:ss'), 2),\n",
    "                 (5, to_timestamp('16-06-2018 16:36:38', 'dd-mm-yyyy hh24:mi:ss'), 1)\n",
    "                 \n",
    "            \n",
    "        \"\"\"\n",
    "\n",
    "execute_query(query)"
   ]
  },
  {
   "cell_type": "code",
   "execution_count": 4,
   "id": "bc850ba6",
   "metadata": {},
   "outputs": [],
   "source": [
    "query = \"\"\" INSERT INTO likes (user_id, created, user_id_give) \n",
    "            VALUES \n",
    "                 (1, to_timestamp('16-05-2021 15:36:38', 'dd-mm-yyyy hh24:mi:ss'), 4),\n",
    "                 (1, to_timestamp('16-06-2018 14:36:38', 'dd-mm-yyyy hh24:mi:ss'), 5),\n",
    "                 (2, to_timestamp('16-06-2018 14:36:38', 'dd-mm-yyyy hh24:mi:ss'), 5)\n",
    "                 \n",
    "\n",
    "                 \n",
    "            \n",
    "        \"\"\"\n",
    "\n",
    "execute_query(query)"
   ]
  },
  {
   "cell_type": "code",
   "execution_count": 5,
   "id": "50b27dfb",
   "metadata": {},
   "outputs": [
    {
     "name": "stdout",
     "output_type": "stream",
     "text": [
      "0 Record(user_id=3, count=1)\n",
      "1 Record(user_id=5, count=1)\n",
      "2 Record(user_id=4, count=1)\n",
      "3 Record(user_id=2, count=2)\n",
      "4 Record(user_id=1, count=3)\n"
     ]
    }
   ],
   "source": [
    "all_rows = execute_query(\"select user_id, count(*) from likes group by user_id\", fetch_result=True)\n",
    "for row, value in enumerate(all_rows):\n",
    "    print(row, value)"
   ]
  },
  {
   "cell_type": "code",
   "execution_count": 6,
   "id": "b75b6fb6",
   "metadata": {},
   "outputs": [
    {
     "name": "stdout",
     "output_type": "stream",
     "text": [
      "0 Record(from_id=5, from_name='Ivan', to_id=1, to_name='Mark')\n",
      "1 Record(from_id=4, from_name='Viktor', to_id=2, to_name='Dima')\n",
      "2 Record(from_id=3, from_name='Phill', to_id=3, to_name='Phill')\n",
      "3 Record(from_id=2, from_name='Dima', to_id=4, to_name='Viktor')\n",
      "4 Record(from_id=1, from_name='Mark', to_id=4, to_name='Viktor')\n",
      "5 Record(from_id=1, from_name='Mark', to_id=5, to_name='Ivan')\n",
      "6 Record(from_id=2, from_name='Dima', to_id=5, to_name='Ivan')\n",
      "7 Record(from_id=1, from_name='Mark', to_id=5, to_name='Ivan')\n"
     ]
    }
   ],
   "source": [
    "query = \"\"\"select\n",
    "                l.user_id as from_id,\n",
    "                u.name as from_name,\n",
    "                l.user_id_give as to_id,\n",
    "                us.name as to_name\n",
    "           from likes l\n",
    "           left join users u\n",
    "           on l.user_id=u.user_id\n",
    "           left join users us\n",
    "           on l.user_id_give=us.user_id\n",
    "           \n",
    "        \"\"\"\n",
    "all_rows = execute_query(query, fetch_result=True)\n",
    "for row, value in enumerate(all_rows):\n",
    "    print(row, value)"
   ]
  },
  {
   "cell_type": "code",
   "execution_count": 7,
   "id": "9c8256a8",
   "metadata": {},
   "outputs": [],
   "source": [
    "query = \"\"\" INSERT INTO users (user_id, created, name) \n",
    "            VALUES \n",
    "                 (10, to_timestamp('16-05-2021 15:36:38', 'dd-mm-yyyy hh24:mi:ss'), 'Mark')\n",
    " \n",
    "        \"\"\"\n",
    "\n",
    "execute_query(query)\n",
    "\n",
    "query = \"\"\" INSERT INTO likes (user_id, created, user_id_give) \n",
    "            VALUES \n",
    "                 (10, to_timestamp('16-05-2021 15:36:38', 'dd-mm-yyyy hh24:mi:ss'), 4)\n",
    "            \n",
    "        \"\"\"\n",
    "\n",
    "execute_query(query)"
   ]
  },
  {
   "cell_type": "code",
   "execution_count": 9,
   "id": "8bfc752b",
   "metadata": {},
   "outputs": [
    {
     "name": "stdout",
     "output_type": "stream",
     "text": [
      "0 Record(from_name='Viktor', like_count=1)\n",
      "1 Record(from_name='Phill', like_count=1)\n",
      "2 Record(from_name='Ivan', like_count=1)\n",
      "3 Record(from_name='Mark', like_count=4)\n",
      "4 Record(from_name='Dima', like_count=2)\n"
     ]
    }
   ],
   "source": [
    "query = \"\"\"select\n",
    "                --l.user_id as from_id,\n",
    "                u.name as from_name,\n",
    "                count(*) as like_count\n",
    "                \n",
    "           from likes l\n",
    "           left join users u\n",
    "           on l.user_id=u.user_id\n",
    "           group by u.name\n",
    "           \n",
    "        \"\"\"\n",
    "all_rows = execute_query(query, fetch_result=True)\n",
    "for row, value in enumerate(all_rows):\n",
    "    print(row, value)"
   ]
  },
  {
   "cell_type": "code",
   "execution_count": 10,
   "id": "ed37ec29",
   "metadata": {},
   "outputs": [
    {
     "name": "stdout",
     "output_type": "stream",
     "text": [
      "0 Record(to_id=4, to_name='Viktor', like_count=3)\n",
      "1 Record(to_id=1, to_name='Mark', like_count=1)\n",
      "2 Record(to_id=3, to_name='Phill', like_count=1)\n",
      "3 Record(to_id=2, to_name='Dima', like_count=1)\n",
      "4 Record(to_id=5, to_name='Ivan', like_count=3)\n"
     ]
    }
   ],
   "source": [
    "query = \"\"\"select\n",
    "                l.user_id_give as to_id,\n",
    "                u.name as to_name,\n",
    "                count(*) as like_count\n",
    "                \n",
    "           from likes l\n",
    "           left join users u\n",
    "           on l.user_id_give=u.user_id\n",
    "           group by l.user_id_give, u.name\n",
    "           \n",
    "        \"\"\"\n",
    "all_rows = execute_query(query, fetch_result=True)\n",
    "for row, value in enumerate(all_rows):\n",
    "    print(row, value)"
   ]
  },
  {
   "cell_type": "code",
   "execution_count": 11,
   "id": "625b1399",
   "metadata": {},
   "outputs": [
    {
     "name": "stdout",
     "output_type": "stream",
     "text": [
      "0 Record(user_id=5, user_id_give=1, like_count=2)\n",
      "1 Record(user_id=4, user_id_give=2, like_count=1)\n",
      "2 Record(user_id=3, user_id_give=3, like_count=1)\n",
      "3 Record(user_id=2, user_id_give=4, like_count=1)\n",
      "4 Record(user_id=1, user_id_give=5, like_count=2)\n"
     ]
    }
   ],
   "source": [
    "query = \"\"\"select t1.user_id, t1.user_id_give,\n",
    "           count(*) as like_count\n",
    "                \n",
    "           from likes t1\n",
    "           inner join likes t2\n",
    "           on t1.user_id_give=t2.user_id\n",
    "           where t2.user_id_give=t1.user_id \n",
    "           group by t1.user_id_give, t1.user_id\n",
    "           \n",
    "        \"\"\"\n",
    "all_rows = execute_query(query, fetch_result=True)\n",
    "for row, value in enumerate(all_rows):\n",
    "    print(row, value)"
   ]
  },
  {
   "cell_type": "code",
   "execution_count": 12,
   "id": "c12d123b",
   "metadata": {},
   "outputs": [
    {
     "name": "stdout",
     "output_type": "stream",
     "text": [
      "0 Record(to_id=5, to_name='Ivan', like_count=3)\n",
      "1 Record(to_id=4, to_name='Viktor', like_count=3)\n",
      "2 Record(to_id=3, to_name='Phill', like_count=1)\n",
      "3 Record(to_id=2, to_name='Dima', like_count=1)\n",
      "4 Record(to_id=1, to_name='Mark', like_count=1)\n"
     ]
    }
   ],
   "source": [
    "query = \"\"\"select\n",
    "                l.user_id_give as to_id,\n",
    "                u.name as to_name,\n",
    "                count(*) as like_count\n",
    "                \n",
    "           from likes l\n",
    "           left join users u\n",
    "           on l.user_id_give=u.user_id\n",
    "           group by l.user_id_give, u.name\n",
    "           order by l.user_id_give DESC\n",
    "           limit 5\n",
    "           \n",
    "        \"\"\"\n",
    "all_rows = execute_query(query, fetch_result=True)\n",
    "for row, value in enumerate(all_rows):\n",
    "    print(row, value)   "
   ]
  },
  {
   "cell_type": "markdown",
   "id": "ef95fa9f",
   "metadata": {},
   "source": [
    "В воображаемой социальной сети есть Пользователи (айди, имя), Фото (айди, название, автор) и Комментарии к фото (айди, текст, автор, айди фото). Необходимо добавить возможность для пользователей ставить лайки другим пользователям, фото или комментариям к фото. Нужно реализовать такие возможности:\n",
    "пользователь имеет право отозвать лайк;\n",
    "необходимо иметь возможность посчитать число полученных сущностью лайков и вывести список пользователей, поставивших лайки;\n",
    "в будущем могут появиться новые виды сущностей, которые можно лайкать."
   ]
  },
  {
   "cell_type": "code",
   "execution_count": 13,
   "id": "d8b869e2",
   "metadata": {},
   "outputs": [
    {
     "name": "stdout",
     "output_type": "stream",
     "text": [
      "DROP TABLE IF EXISTS users2;\n",
      "DROP TABLE IF EXISTS photos;\n",
      "DROP TABLE IF EXISTS comments;DROP TABLE IF EXISTS likes;\n",
      "CREATE TABLE users2 (\n",
      "                         user_id    INT       NOT NULL,\n",
      "                         name    TEXT       NOT NULL\n",
      "                );\n",
      "                \n",
      "CREATE TABLE photos (\n",
      "                         photo_id    INT       NOT NULL,\n",
      "                         photo_name    TEXT       NOT NULL,\n",
      "                         author_id    INT       NOT NULL\n",
      "                  );\n",
      "                \n",
      "CREATE TABLE comments (\n",
      "                         comment_id    INT       NOT NULL,\n",
      "                         user_id    INT       NOT NULL,\n",
      "                         text    TEXT       NOT NULL,\n",
      "                         author_id    INT       NOT NULL,\n",
      "                         photo_id    INT       NOT NULL\n",
      "                );\n",
      "                \n",
      "CREATE TABLE likes (\n",
      "                         user_from    INT       NOT NULL,\n",
      "                         entity_type       TEXT       NOT NULL,\n",
      "                         entity_id    INT       NOT NULL,\n",
      "                         user_to     INT       NOT NULL    \n",
      "                         \n",
      "                );\n",
      "                \n"
     ]
    }
   ],
   "source": [
    "import psycopg2 as pg_driver\n",
    "\n",
    "db = pg_driver.connect(\n",
    "    database=\"testdb\", \n",
    "    user='testuser',\n",
    "    password='testuser', \n",
    "    host='localhost', \n",
    "    port='5432'\n",
    ")\n",
    "\n",
    "\n",
    "def execute_queries(db, sql_commands):\n",
    "    db.autocommit = True\n",
    "    # тот же самый курсор\n",
    "    with db.cursor() as cursor:\n",
    "        # в цикле поочередно выполняем запросы\n",
    "        for sql_command in sql_commands:\n",
    "            print(sql_command)\n",
    "            # тот же самый .execute() для выполнения запроса\n",
    "            cursor.execute(sql_command)\n",
    "            \n",
    "sql_commands = [\"DROP TABLE IF EXISTS users2;\",\n",
    "                \"DROP TABLE IF EXISTS photos;\",\n",
    "                \"DROP TABLE IF EXISTS comments;\"\n",
    "                \"DROP TABLE IF EXISTS likes;\",\n",
    "                \"\"\"CREATE TABLE users2 (\n",
    "                         user_id    INT       NOT NULL,\n",
    "                         name    TEXT       NOT NULL\n",
    "                );\n",
    "                \"\"\",\n",
    "                \"\"\"CREATE TABLE photos (\n",
    "                         photo_id    INT       NOT NULL,\n",
    "                         photo_name    TEXT       NOT NULL,\n",
    "                         author_id    INT       NOT NULL\n",
    "                  );\n",
    "                \"\"\",\n",
    "               \"\"\"CREATE TABLE comments (\n",
    "                         comment_id    INT       NOT NULL,\n",
    "                         user_id    INT       NOT NULL,\n",
    "                         text    TEXT       NOT NULL,\n",
    "                         author_id    INT       NOT NULL,\n",
    "                         photo_id    INT       NOT NULL\n",
    "                );\n",
    "                \"\"\",\n",
    "               \"\"\"CREATE TABLE likes (\n",
    "                         user_from    INT       NOT NULL,\n",
    "                         entity_type       TEXT       NOT NULL,\n",
    "                         entity_id    INT       NOT NULL,\n",
    "                         user_to     INT       NOT NULL    \n",
    "                         \n",
    "                );\n",
    "                \"\"\"]\n",
    "\n",
    "\n",
    "execute_queries(db, sql_commands)"
   ]
  },
  {
   "cell_type": "code",
   "execution_count": 14,
   "id": "a0cc67c0",
   "metadata": {},
   "outputs": [
    {
     "name": "stdout",
     "output_type": "stream",
     "text": [
      "[Record(count=0)]\n",
      "[Record(count=0)]\n",
      "[Record(count=0)]\n",
      "[Record(count=0)]\n"
     ]
    }
   ],
   "source": [
    "import psycopg2\n",
    "from psycopg2 import Error\n",
    "from psycopg2.extras import NamedTupleCursor\n",
    "\n",
    "def execute_query(query, fetch_result=False):\n",
    "    try:\n",
    "        connection = pg_driver.connect(\n",
    "                     database=\"testdb\", \n",
    "                     user='testuser',\n",
    "                     password='testuser', \n",
    "                     host='localhost', \n",
    "                     port='5432'\n",
    "                 );\n",
    "        \n",
    "        connection.autocommit = True\n",
    "        cursor = connection.cursor(cursor_factory=NamedTupleCursor)\n",
    "        cursor.execute(query)\n",
    "        if fetch_result:\n",
    "            return cursor.fetchall()\n",
    "    except (Exception, Error) as error:\n",
    "        print(\"Error while connecting to PostgreSQL\", error)\n",
    "    finally:\n",
    "        if (connection):\n",
    "            cursor.close()\n",
    "            connection.close()\n",
    "\n",
    "row_count_hist = execute_query(\"select count(*) from users2\", fetch_result=True)\n",
    "row_count_payment = execute_query(\"select count(*) from photos\", fetch_result=True)\n",
    "row_count_comm = execute_query(\"select count(*) from comments\", fetch_result=True)\n",
    "row_count_lik = execute_query(\"select count(*) from likes\", fetch_result=True)\n",
    "\n",
    "print(row_count_hist)\n",
    "print(row_count_payment)\n",
    "print(row_count_comm)\n",
    "print(row_count_lik)"
   ]
  },
  {
   "cell_type": "code",
   "execution_count": 15,
   "id": "578ec2a6",
   "metadata": {},
   "outputs": [],
   "source": [
    "query = \"\"\" INSERT INTO users2 (user_id, name) \n",
    "            VALUES \n",
    "                 (1, 'Mark'),\n",
    "                 (2, 'Dima'),\n",
    "                 (3, 'Pina'),\n",
    "                 (4, 'Alice'),\n",
    "                 (5, 'Rob'),\n",
    "                 (6, 'Ann'),\n",
    "                 (7, 'Jin')\n",
    "                 \n",
    "            \n",
    "        \"\"\"\n",
    "\n",
    "execute_query(query)\n",
    "\n",
    "query = \"\"\" INSERT INTO photos (photo_id, photo_name, author_id ) \n",
    "            VALUES \n",
    "                 (1, 'Forest', 5),\n",
    "                 (2, 'River', 4),\n",
    "                 (3, 'City', 3),\n",
    "                 (4, 'Portret', 7),\n",
    "                 (5, 'Street', 1),\n",
    "                 (6, 'Member', 7),\n",
    "                 (7, 'Home', 4),\n",
    "                 (8, 'Peach', 6),\n",
    "                 (9, 'Flowers', 4),\n",
    "                 (10, 'Cats', 2),\n",
    "                 (11, 'Dogs', 2)\n",
    "                 \n",
    "            \n",
    "        \"\"\"\n",
    "\n",
    "execute_query(query)\n",
    "\n",
    "query = \"\"\" INSERT INTO comments (comment_id, user_id, text, author_id, photo_id ) \n",
    "            VALUES \n",
    "                 (1, 1, 'Cool', 6, 8),\n",
    "                 (2, 7, 'Cute', 2, 10),\n",
    "                 (3, 4, 'Want to be there', 5, 1),\n",
    "                 (4, 4, 'WWH', 7, 4),\n",
    "                 (5, 5, 'Beautiful', 4, 9)\n",
    "                 \n",
    "            \n",
    "        \"\"\"\n",
    "\n",
    "execute_query(query)\n",
    "\n",
    "query = \"\"\" INSERT INTO likes (user_from, entity_type, entity_id, user_to) \n",
    "            VALUES \n",
    "                 (1, 'person', 3, 3),\n",
    "                 (2, 'photo', 5, 1),\n",
    "                 (3, 'comment', 3, 4),\n",
    "                 (4, 'photo', 8, 6),\n",
    "                 (5, 'person', 7, 7)\n",
    "            \n",
    "        \"\"\"\n",
    "\n",
    "execute_query(query)"
   ]
  },
  {
   "cell_type": "code",
   "execution_count": 16,
   "id": "6e32330d",
   "metadata": {},
   "outputs": [
    {
     "name": "stdout",
     "output_type": "stream",
     "text": [
      "0 Record(user_id=1, name='Mark')\n",
      "1 Record(user_id=2, name='Dima')\n",
      "2 Record(user_id=3, name='Pina')\n",
      "3 Record(user_id=4, name='Alice')\n",
      "4 Record(user_id=5, name='Rob')\n",
      "5 Record(user_id=6, name='Ann')\n",
      "6 Record(user_id=7, name='Jin')\n"
     ]
    }
   ],
   "source": [
    "all_rows = execute_query(\"select * from users2\", fetch_result=True)\n",
    "for row, value in enumerate(all_rows):\n",
    "    print(row, value)"
   ]
  },
  {
   "cell_type": "code",
   "execution_count": 17,
   "id": "3ffa2312",
   "metadata": {},
   "outputs": [
    {
     "name": "stdout",
     "output_type": "stream",
     "text": [
      "0 Record(name='Pina', photo_count=1)\n",
      "1 Record(name='Mark', photo_count=1)\n",
      "2 Record(name='Ann', photo_count=1)\n",
      "3 Record(name='Alice', photo_count=3)\n",
      "4 Record(name='Jin', photo_count=2)\n",
      "5 Record(name='Rob', photo_count=1)\n",
      "6 Record(name='Dima', photo_count=2)\n"
     ]
    }
   ],
   "source": [
    "query = \"\"\"select\n",
    "                u.name,\n",
    "                --p.photo_name,\n",
    "                count(*) as photo_count\n",
    "                \n",
    "           from users2 u\n",
    "           left join photos p\n",
    "           on u.user_id=p.author_id\n",
    "           group by u.name\n",
    "           \n",
    "        \"\"\"\n",
    "all_rows = execute_query(query, fetch_result=True)\n",
    "for row, value in enumerate(all_rows):\n",
    "    print(row, value)"
   ]
  },
  {
   "cell_type": "code",
   "execution_count": 18,
   "id": "8e7d7e30",
   "metadata": {},
   "outputs": [
    {
     "name": "stdout",
     "output_type": "stream",
     "text": [
      "0 Record(user_from=1, name='Mark', like_count=1)\n",
      "1 Record(user_from=3, name='Pina', like_count=1)\n",
      "2 Record(user_from=2, name='Dima', like_count=1)\n",
      "3 Record(user_from=5, name='Rob', like_count=1)\n",
      "4 Record(user_from=4, name='Alice', like_count=1)\n"
     ]
    }
   ],
   "source": [
    "query = \"\"\"select\n",
    "                l.user_from,\n",
    "                u.name,\n",
    "                count(*) as like_count\n",
    "                \n",
    "           from likes l\n",
    "           left join users2 u\n",
    "           on l.user_from=u.user_id\n",
    "           group by l.user_from, u.name\n",
    "           \n",
    "        \"\"\"\n",
    "all_rows = execute_query(query, fetch_result=True)\n",
    "for row, value in enumerate(all_rows):\n",
    "    print(row, value)"
   ]
  },
  {
   "cell_type": "code",
   "execution_count": 19,
   "id": "558f042a",
   "metadata": {},
   "outputs": [
    {
     "name": "stdout",
     "output_type": "stream",
     "text": [
      "0 Record(user_to=1, name='Mark', like_count=1)\n",
      "1 Record(user_to=7, name='Jin', like_count=1)\n",
      "2 Record(user_to=3, name='Pina', like_count=1)\n",
      "3 Record(user_to=4, name='Alice', like_count=1)\n",
      "4 Record(user_to=6, name='Ann', like_count=1)\n"
     ]
    }
   ],
   "source": [
    "query = \"\"\"select\n",
    "                l.user_to,\n",
    "                u.name,\n",
    "                count(*) as like_count\n",
    "                \n",
    "           from likes l\n",
    "           left join users2 u\n",
    "           on l.user_to=u.user_id\n",
    "           group by l.user_to, u.name\n",
    "           \n",
    "        \"\"\"\n",
    "all_rows = execute_query(query, fetch_result=True)\n",
    "for row, value in enumerate(all_rows):\n",
    "    print(row, value)"
   ]
  },
  {
   "cell_type": "code",
   "execution_count": null,
   "id": "754339ac",
   "metadata": {},
   "outputs": [],
   "source": []
  }
 ],
 "metadata": {
  "kernelspec": {
   "display_name": "Python 3",
   "language": "python",
   "name": "python3"
  },
  "language_info": {
   "codemirror_mode": {
    "name": "ipython",
    "version": 3
   },
   "file_extension": ".py",
   "mimetype": "text/x-python",
   "name": "python",
   "nbconvert_exporter": "python",
   "pygments_lexer": "ipython3",
   "version": "3.8.8"
  }
 },
 "nbformat": 4,
 "nbformat_minor": 5
}

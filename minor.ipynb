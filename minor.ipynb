{
 "cells": [
  {
   "cell_type": "code",
   "execution_count": 1,
   "id": "cfda3fca",
   "metadata": {},
   "outputs": [
    {
     "name": "stdout",
     "output_type": "stream",
     "text": [
      "Requirement already satisfied: psycopg2 in c:\\an\\lib\\site-packages (2.9.4)\n",
      "Note: you may need to restart the kernel to use updated packages.\n"
     ]
    }
   ],
   "source": [
    "%pip install psycopg2"
   ]
  },
  {
   "cell_type": "code",
   "execution_count": 2,
   "id": "d5f9d57b",
   "metadata": {},
   "outputs": [
    {
     "ename": "DuplicateDatabase",
     "evalue": "ОШИБКА:  база данных \"social_media\" уже существует\n",
     "output_type": "error",
     "traceback": [
      "\u001b[1;31m---------------------------------------------------------------------------\u001b[0m",
      "\u001b[1;31mDuplicateDatabase\u001b[0m                         Traceback (most recent call last)",
      "\u001b[1;32m<ipython-input-2-5993934610f9>\u001b[0m in \u001b[0;36m<module>\u001b[1;34m\u001b[0m\n\u001b[0;32m     13\u001b[0m \u001b[0msql_create_db\u001b[0m \u001b[1;33m=\u001b[0m \u001b[1;34m\"create database \"\u001b[0m \u001b[1;33m+\u001b[0m \u001b[0mdb_name\u001b[0m \u001b[1;33m+\u001b[0m \u001b[1;34m\";\"\u001b[0m\u001b[1;33m\u001b[0m\u001b[1;33m\u001b[0m\u001b[0m\n\u001b[0;32m     14\u001b[0m \u001b[1;33m\u001b[0m\u001b[0m\n\u001b[1;32m---> 15\u001b[1;33m \u001b[0mcursor\u001b[0m\u001b[1;33m.\u001b[0m\u001b[0mexecute\u001b[0m\u001b[1;33m(\u001b[0m\u001b[0msql_create_db\u001b[0m\u001b[1;33m)\u001b[0m\u001b[1;33m\u001b[0m\u001b[1;33m\u001b[0m\u001b[0m\n\u001b[0m\u001b[0;32m     16\u001b[0m \u001b[0mcon\u001b[0m\u001b[1;33m.\u001b[0m\u001b[0mclose\u001b[0m\u001b[1;33m(\u001b[0m\u001b[1;33m)\u001b[0m\u001b[1;33m\u001b[0m\u001b[1;33m\u001b[0m\u001b[0m\n",
      "\u001b[1;31mDuplicateDatabase\u001b[0m: ОШИБКА:  база данных \"social_media\" уже существует\n"
     ]
    }
   ],
   "source": [
    "# Подключаем к наше программе модуль с предыдущего шага. Этот модуль будет повторяться всегда. \n",
    "# Мы импортируем модуль psycopg2 и называем его pg_driver для удобства\n",
    "import psycopg2\n",
    "\n",
    "con = psycopg2.connect(user=\"postgres\",\n",
    "                       password=\"546038\",\n",
    "                       host='127.0.0.1')\n",
    "con.autocommit = True\n",
    "# Далее нам нужен курсор, который позволит нам непосредственно отправлять запросы на выполнения в БД\n",
    "cursor = con.cursor()\n",
    "db_name = \"social_media\"\n",
    "\n",
    "sql_create_db = \"create database \" + db_name + \";\"\n",
    "\n",
    "cursor.execute(sql_create_db)\n",
    "con.close()"
   ]
  },
  {
   "cell_type": "code",
   "execution_count": 1,
   "id": "aedea27d",
   "metadata": {},
   "outputs": [
    {
     "ename": "ProgrammingError",
     "evalue": "no results to fetch",
     "output_type": "error",
     "traceback": [
      "\u001b[1;31m---------------------------------------------------------------------------\u001b[0m",
      "\u001b[1;31mProgrammingError\u001b[0m                          Traceback (most recent call last)",
      "\u001b[1;32m<ipython-input-1-ba23efda2ee9>\u001b[0m in \u001b[0;36m<module>\u001b[1;34m\u001b[0m\n\u001b[0;32m     14\u001b[0m         \u001b[0mcursor\u001b[0m\u001b[1;33m.\u001b[0m\u001b[0mexecute\u001b[0m\u001b[1;33m(\u001b[0m\u001b[0msql_command\u001b[0m\u001b[1;33m)\u001b[0m\u001b[1;33m\u001b[0m\u001b[1;33m\u001b[0m\u001b[0m\n\u001b[0;32m     15\u001b[0m \u001b[1;33m\u001b[0m\u001b[0m\n\u001b[1;32m---> 16\u001b[1;33m     \u001b[0mrs\u001b[0m \u001b[1;33m=\u001b[0m \u001b[0mcursor\u001b[0m\u001b[1;33m.\u001b[0m\u001b[0mfetchall\u001b[0m\u001b[1;33m(\u001b[0m\u001b[1;33m)\u001b[0m\u001b[1;33m\u001b[0m\u001b[1;33m\u001b[0m\u001b[0m\n\u001b[0m\u001b[0;32m     17\u001b[0m     \u001b[1;32mfor\u001b[0m \u001b[0mrow\u001b[0m\u001b[1;33m,\u001b[0m \u001b[0mvalue\u001b[0m \u001b[1;32min\u001b[0m \u001b[0menumerate\u001b[0m\u001b[1;33m(\u001b[0m\u001b[0mrs\u001b[0m\u001b[1;33m)\u001b[0m\u001b[1;33m:\u001b[0m\u001b[1;33m\u001b[0m\u001b[1;33m\u001b[0m\u001b[0m\n\u001b[0;32m     18\u001b[0m         \u001b[0mprint\u001b[0m\u001b[1;33m(\u001b[0m\u001b[0mrow\u001b[0m\u001b[1;33m,\u001b[0m \u001b[0mvalue\u001b[0m\u001b[1;33m)\u001b[0m\u001b[1;33m\u001b[0m\u001b[1;33m\u001b[0m\u001b[0m\n",
      "\u001b[1;31mProgrammingError\u001b[0m: no results to fetch"
     ]
    }
   ],
   "source": [
    "import psycopg2 as pg_driver\n",
    "\n",
    "db = pg_driver.connect(user=\"postgres\",\n",
    "                       password=\"546038\",\n",
    "                       host='localhost',\n",
    "                       port='5432')\n",
    "sql_commands = [\"CREATE DATABASE testdb;\",\n",
    "                \"CREATE USER testuser with encrypted password 'testuser';\",\n",
    "                \"GRANT ALL PRIVILEGES ON DATABASE testdb TO testuser;\"]\n",
    "db.autocommit = True\n",
    "with db.cursor() as cursor:\n",
    "    for sql_command in sql_commands:\n",
    "        cursor.execute(sql_command)\n",
    "\n",
    "    rs = cursor.fetchall()\n",
    "    for row, value in enumerate(rs):\n",
    "        print(row, value)"
   ]
  },
  {
   "cell_type": "code",
   "execution_count": 3,
   "id": "14ba7638",
   "metadata": {},
   "outputs": [],
   "source": [
    "import psycopg2 as pg_driver\n",
    "\n",
    "db = pg_driver.connect(\n",
    "    database=\"testdb\", user='testuser',\n",
    "    password='testuser', host='localhost', port='5432'\n",
    ")\n",
    "\n",
    "cur = db.cursor()\n",
    "cur.execute(open(\"C:/sqlfiles/db.sql\", \"r\").read())\n",
    "    \n",
    "db.commit()\n",
    "db.close()   "
   ]
  },
  {
   "cell_type": "code",
   "execution_count": 5,
   "id": "c3a58c2b",
   "metadata": {},
   "outputs": [],
   "source": [
    "import psycopg2 as pg_driver\n",
    "\n",
    "db = pg_driver.connect(\n",
    "    database=\"testdb\", user='testuser',\n",
    "    password='testuser', host='localhost', port='5432'\n",
    ")\n",
    "\n",
    "cur = db.cursor()\n",
    "cur.execute(open(\"C:/sqlfiles/dataset.sql\", \"r\").read())\n",
    "    \n",
    "db.commit()\n",
    "db.close() "
   ]
  },
  {
   "cell_type": "code",
   "execution_count": 8,
   "id": "8441f47d",
   "metadata": {},
   "outputs": [
    {
     "name": "stdout",
     "output_type": "stream",
     "text": [
      "0 (111, datetime.datetime(2021, 3, 23, 11, 24, 26))\n",
      "1 (222, datetime.datetime(2021, 3, 23, 11, 22, 16))\n",
      "2 (111, datetime.datetime(2021, 3, 23, 10, 10, 1))\n",
      "3 (111, datetime.datetime(2021, 3, 21, 19, 27, 31))\n",
      "4 (222, datetime.datetime(2021, 3, 21, 14, 40, 13))\n",
      "5 (333, datetime.datetime(2021, 3, 22, 15, 30, 15))\n",
      "6 (444, datetime.datetime(2021, 3, 23, 11, 20, 15))\n",
      "7 (333, datetime.datetime(2021, 3, 15, 10, 15, 12))\n"
     ]
    }
   ],
   "source": [
    "db = pg_driver.connect(\n",
    "    database=\"testdb\", user='testuser',\n",
    "    password='testuser', host='localhost', port='5432'\n",
    ")\n",
    "\n",
    "cur = db.cursor()\n",
    "cur.execute(\"SELECT * FROM user_table\")\n",
    "\n",
    "rs = cur.fetchall()\n",
    "for row, value in enumerate(rs):\n",
    "    print(row, value)\n",
    "    \n",
    "db.commit()\n",
    "db.close() "
   ]
  },
  {
   "cell_type": "code",
   "execution_count": 9,
   "id": "153bfc67",
   "metadata": {},
   "outputs": [
    {
     "name": "stdout",
     "output_type": "stream",
     "text": [
      "0 (333, 100)\n",
      "1 (444, 80)\n",
      "2 (111, 190)\n",
      "3 (222, 5810)\n"
     ]
    }
   ],
   "source": [
    "db = pg_driver.connect(\n",
    "    database=\"testdb\", user='testuser',\n",
    "    password='testuser', host='localhost', port='5432'\n",
    ")\n",
    "\n",
    "cur = db.cursor()\n",
    "cur.execute(\"\"\"SELECT user_id, SUM(sum_rub) \n",
    "            FROM user_payment\n",
    "            GROUP BY user_id\n",
    "            \"\"\")\n",
    "\n",
    "rs = cur.fetchall()\n",
    "for row, value in enumerate(rs):\n",
    "    print(row, value)\n",
    "    \n",
    "db.commit()\n",
    "db.close() "
   ]
  },
  {
   "cell_type": "code",
   "execution_count": 10,
   "id": "aaaa557b",
   "metadata": {},
   "outputs": [
    {
     "name": "stdout",
     "output_type": "stream",
     "text": [
      "user_id,created,sum_rub\n",
      "1,2021-03-15 10:15:12,10\n",
      "2,2021-03-16 10:15:12,20\n",
      "3,2021-03-17 10:15:12,30\n",
      "4,2021-03-18 10:15:12,40\n",
      "1,2021-03-19 10:15:12,10\n"
     ]
    }
   ],
   "source": [
    "f = open('C:/sqlfiles/data1.csv')\n",
    "text = f.read()\n",
    "print(text)\n",
    "f.close()"
   ]
  },
  {
   "cell_type": "code",
   "execution_count": 11,
   "id": "3f09d3d0",
   "metadata": {},
   "outputs": [],
   "source": [
    "import psycopg2 as pg_driver\n",
    "\n",
    "db = pg_driver.connect(\n",
    "    database=\"testdb\", user='testuser',\n",
    "    password='testuser', host='localhost', port='5432'\n",
    ")\n",
    "\n",
    "cur = db.cursor()\n",
    "cur.execute(open(\"C:/sqlfiles/data2.sql\", \"r\").read())\n",
    "    \n",
    "db.commit()\n",
    "db.close() "
   ]
  },
  {
   "cell_type": "code",
   "execution_count": null,
   "id": "a4a74271",
   "metadata": {},
   "outputs": [],
   "source": []
  }
 ],
 "metadata": {
  "kernelspec": {
   "display_name": "Python 3",
   "language": "python",
   "name": "python3"
  },
  "language_info": {
   "codemirror_mode": {
    "name": "ipython",
    "version": 3
   },
   "file_extension": ".py",
   "mimetype": "text/x-python",
   "name": "python",
   "nbconvert_exporter": "python",
   "pygments_lexer": "ipython3",
   "version": "3.8.8"
  }
 },
 "nbformat": 4,
 "nbformat_minor": 5
}

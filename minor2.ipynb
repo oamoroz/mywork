{
 "cells": [
  {
   "cell_type": "code",
   "execution_count": 1,
   "id": "3a2a22c8",
   "metadata": {},
   "outputs": [
    {
     "name": "stdout",
     "output_type": "stream",
     "text": [
      "Requirement already satisfied: psycopg2 in c:\\an\\lib\\site-packages (2.9.4)\n",
      "Note: you may need to restart the kernel to use updated packages.\n"
     ]
    }
   ],
   "source": [
    "%pip install psycopg2"
   ]
  },
  {
   "cell_type": "code",
   "execution_count": 2,
   "id": "43a22942",
   "metadata": {},
   "outputs": [
    {
     "name": "stdout",
     "output_type": "stream",
     "text": [
      "0 (13754, 'postgres', 10, 6, 'Russian_Russia.1251', 'Russian_Russia.1251', False, True, -1, 13753, '727', '1', 1663, None)\n",
      "1 (16394, 'social_media', 10, 6, 'Russian_Russia.1251', 'Russian_Russia.1251', False, True, -1, 13753, '727', '1', 1663, None)\n",
      "2 (1, 'template1', 10, 6, 'Russian_Russia.1251', 'Russian_Russia.1251', True, True, -1, 13753, '727', '1', 1663, '{=c/postgres,postgres=CTc/postgres}')\n",
      "3 (13753, 'template0', 10, 6, 'Russian_Russia.1251', 'Russian_Russia.1251', True, False, -1, 13753, '727', '1', 1663, '{=c/postgres,postgres=CTc/postgres}')\n",
      "4 (16395, 'testdb', 10, 6, 'Russian_Russia.1251', 'Russian_Russia.1251', False, True, -1, 13753, '727', '1', 1663, '{=Tc/postgres,postgres=CTc/postgres,testuser=CTc/postgres}')\n"
     ]
    }
   ],
   "source": [
    "# Подключаем к наше программе модуль с предыдущего шага. Этот модуль будет повторяться всегда. \n",
    "# Мы импортируем модуль psycopg2 и называем его pg_driver для удобства\n",
    "import psycopg2 as pg_driver\n",
    "\n",
    "\n",
    "# На данном шаге нам нужно попробовать подключить к нашей базе данных. При установке PostgreSQL вам предлагалось задать\n",
    "# пароль от базы данных по умолчанию, собственно ниже вам следует изменить только password='postgres', но не удаляйте кавычки, это важно\n",
    "db = pg_driver.connect(\n",
    "    database=\"postgres\", \n",
    "    user='postgres',\n",
    "    password='546038', \n",
    "    host='localhost', \n",
    "    port='5432'\n",
    ")\n",
    "\n",
    "# Далее нам нужен курсор, который позволит нам непосредственно отправлять запросы на выполнения в БД. Эта строка всегда одинаковая\n",
    "cur = db.cursor()\n",
    "# Делаем запрос к таблице по умолчанию pg_database\n",
    "cur.execute(\"select * from pg_database\")\n",
    "\n",
    "# Чтобы извлечь результат выполнения запроса к таблице по умолчанию, необходимо воспользоваться методом .fetchall()\n",
    "rs = cur.fetchall()\n",
    "\n",
    "\n",
    "# enumerate позволяет красиво пронумеровать строки\n",
    "for row, values in enumerate(rs):\n",
    "    print(row, values)"
   ]
  },
  {
   "cell_type": "code",
   "execution_count": 4,
   "id": "ee055e7c",
   "metadata": {},
   "outputs": [
    {
     "name": "stdout",
     "output_type": "stream",
     "text": [
      "CREATE DATABASE testdb;\n"
     ]
    },
    {
     "ename": "DuplicateDatabase",
     "evalue": "ОШИБКА:  база данных \"testdb\" уже существует\n",
     "output_type": "error",
     "traceback": [
      "\u001b[1;31m---------------------------------------------------------------------------\u001b[0m",
      "\u001b[1;31mDuplicateDatabase\u001b[0m                         Traceback (most recent call last)",
      "\u001b[1;32m<ipython-input-4-81dd63db1631>\u001b[0m in \u001b[0;36m<module>\u001b[1;34m\u001b[0m\n\u001b[0;32m     36\u001b[0m \u001b[1;33m\u001b[0m\u001b[0m\n\u001b[0;32m     37\u001b[0m \u001b[1;31m# запускаем выполнение запросов\u001b[0m\u001b[1;33m\u001b[0m\u001b[1;33m\u001b[0m\u001b[1;33m\u001b[0m\u001b[0m\n\u001b[1;32m---> 38\u001b[1;33m \u001b[0mexecute_queries\u001b[0m\u001b[1;33m(\u001b[0m\u001b[0mdb\u001b[0m\u001b[1;33m,\u001b[0m \u001b[0msql_commands\u001b[0m\u001b[1;33m)\u001b[0m\u001b[1;33m\u001b[0m\u001b[1;33m\u001b[0m\u001b[0m\n\u001b[0m",
      "\u001b[1;32m<ipython-input-4-81dd63db1631>\u001b[0m in \u001b[0;36mexecute_queries\u001b[1;34m(db, sql_commands)\u001b[0m\n\u001b[0;32m     18\u001b[0m             \u001b[0mprint\u001b[0m\u001b[1;33m(\u001b[0m\u001b[0msql_command\u001b[0m\u001b[1;33m)\u001b[0m\u001b[1;33m\u001b[0m\u001b[1;33m\u001b[0m\u001b[0m\n\u001b[0;32m     19\u001b[0m             \u001b[1;31m# тот же самый .execute() для выполнения запроса\u001b[0m\u001b[1;33m\u001b[0m\u001b[1;33m\u001b[0m\u001b[1;33m\u001b[0m\u001b[0m\n\u001b[1;32m---> 20\u001b[1;33m             \u001b[0mcursor\u001b[0m\u001b[1;33m.\u001b[0m\u001b[0mexecute\u001b[0m\u001b[1;33m(\u001b[0m\u001b[0msql_command\u001b[0m\u001b[1;33m)\u001b[0m\u001b[1;33m\u001b[0m\u001b[1;33m\u001b[0m\u001b[0m\n\u001b[0m\u001b[0;32m     21\u001b[0m \u001b[1;33m\u001b[0m\u001b[0m\n\u001b[0;32m     22\u001b[0m \u001b[1;31m# создаем список запросов к бд\u001b[0m\u001b[1;33m\u001b[0m\u001b[1;33m\u001b[0m\u001b[1;33m\u001b[0m\u001b[0m\n",
      "\u001b[1;31mDuplicateDatabase\u001b[0m: ОШИБКА:  база данных \"testdb\" уже существует\n"
     ]
    }
   ],
   "source": [
    "# создаем свою базу данных\n",
    "# как обычно делаем импорт\n",
    "import psycopg2 as pg_driver\n",
    "\n",
    "# подключаемся к БД\n",
    "db = pg_driver.connect(user=\"postgres\",\n",
    "                       password=\"546038\",\n",
    "                       host='localhost',\n",
    "                       port='5432')\n",
    "\n",
    "\n",
    "def execute_queries(db, sql_commands):\n",
    "    db.autocommit = True\n",
    "    # тот же самый курсор\n",
    "    with db.cursor() as cursor:\n",
    "        # в цикле поочередно выполняем запросы\n",
    "        for sql_command in sql_commands:\n",
    "            print(sql_command)\n",
    "            # тот же самый .execute() для выполнения запроса\n",
    "            cursor.execute(sql_command)\n",
    "\n",
    "# создаем список запросов к бд\n",
    "# Здесь у нас идут 3 последовательных команды\n",
    "# 1. Создать свою базу данных с именем testdba\n",
    "# 2. Создать пользователя с паролем\n",
    "# 3. Выдать все доступы к базе данных\n",
    "\n",
    "# До это момента у нас была база данных по умолчанию, дефолтная, но это плохая практика использовать дефолтную базу, поэтому\n",
    "# обычно создают отдельного пользователя. Например, у вас отдельная база, пользователь и таблицы для хранения данных по социологическому опросу,\n",
    "# отдельная база с пользователем для дипломной работы, отдельная база для курсовой работы по нашему предметы. Это удобный способ разграничить\n",
    "# набор таблиц для определенной сферы\n",
    "sql_commands = [\"CREATE DATABASE testdb;\",\n",
    "                \"CREATE USER testuser with encrypted password 'testuser';\",\n",
    "                \"GRANT ALL PRIVILEGES ON DATABASE testdb TO testuser;\"]\n",
    "\n",
    "\n",
    "# запускаем выполнение запросов\n",
    "execute_queries(db, sql_commands)"
   ]
  },
  {
   "cell_type": "code",
   "execution_count": 5,
   "id": "9b36e0ca",
   "metadata": {},
   "outputs": [
    {
     "name": "stdout",
     "output_type": "stream",
     "text": [
      "DROP TABLE IF EXISTS user_history;\n",
      "DROP TABLE IF EXISTS user_payment;\n",
      "CREATE TABLE user_history (\n",
      "                         user_id    INT       NOT NULL,\n",
      "                         created    TIMESTAMP NOT NULL\n",
      "                );\n",
      "                \n",
      "CREATE TABLE user_payment (\n",
      "                         user_id    INT       NOT NULL,\n",
      "                         created    TIMESTAMP NOT NULL,\n",
      "                         sum_rub    INT       NOT NULL\n",
      "                  );\n",
      "                \n"
     ]
    }
   ],
   "source": [
    "import psycopg2 as pg_driver\n",
    "\n",
    "db = pg_driver.connect(\n",
    "    database=\"testdb\", \n",
    "    user='testuser',\n",
    "    password='testuser', \n",
    "    host='localhost', \n",
    "    port='5432'\n",
    ")\n",
    "\n",
    "\n",
    "def execute_queries(db, sql_commands):\n",
    "    db.autocommit = True\n",
    "    # тот же самый курсор\n",
    "    with db.cursor() as cursor:\n",
    "        # в цикле поочередно выполняем запросы\n",
    "        for sql_command in sql_commands:\n",
    "            print(sql_command)\n",
    "            # тот же самый .execute() для выполнения запроса\n",
    "            cursor.execute(sql_command)\n",
    "\n",
    "\n",
    "sql_commands = [\"DROP TABLE IF EXISTS user_history;\",\n",
    "                \"DROP TABLE IF EXISTS user_payment;\",\n",
    "                \"\"\"CREATE TABLE user_history (\n",
    "                         user_id    INT       NOT NULL,\n",
    "                         created    TIMESTAMP NOT NULL\n",
    "                );\n",
    "                \"\"\",\n",
    "                \"\"\"CREATE TABLE user_payment (\n",
    "                         user_id    INT       NOT NULL,\n",
    "                         created    TIMESTAMP NOT NULL,\n",
    "                         sum_rub    INT       NOT NULL\n",
    "                  );\n",
    "                \"\"\"]\n",
    "\n",
    "\n",
    "execute_queries(db, sql_commands)"
   ]
  },
  {
   "cell_type": "markdown",
   "id": "0ebde992",
   "metadata": {},
   "source": [
    "После выполнения предыдущей ячейки мы ожидаем, что у нас было создано 2 таблицы. Давайте проверим, есть ли эти таблицы путем подсчета количества строк внутри них, потому что если таблиц нет, то запросы упадут с ошибкой\n",
    "\n",
    "Для начала создадим метод, который позволит нам компактно выполнять запросы, чтобы не приходилось постоянно что-то копировать"
   ]
  },
  {
   "cell_type": "code",
   "execution_count": 2,
   "id": "e26d40ec",
   "metadata": {},
   "outputs": [],
   "source": [
    "import psycopg2\n",
    "from psycopg2 import Error\n",
    "from psycopg2.extras import NamedTupleCursor\n",
    "\n",
    "def execute_query(query, fetch_result=False):\n",
    "    try:\n",
    "        connection = psycopg2.connect(\n",
    "                                database=\"testdb\", \n",
    "                                user='testuser',\n",
    "                                password='testuser', \n",
    "                                host='localhost', \n",
    "                                port='5432'\n",
    "                     )\n",
    "        connection.autocommit = True\n",
    "        cursor = connection.cursor(cursor_factory=NamedTupleCursor)\n",
    "        cursor.execute(query)\n",
    "        if fetch_result:\n",
    "            return cursor.fetchall()\n",
    "    except (Exception, Error) as error:\n",
    "        print(\"Error while connecting to PostgreSQL\", error)\n",
    "    finally:\n",
    "        if (connection):\n",
    "            cursor.close()\n",
    "            connection.close()"
   ]
  },
  {
   "cell_type": "code",
   "execution_count": 7,
   "id": "139dec66",
   "metadata": {},
   "outputs": [
    {
     "name": "stdout",
     "output_type": "stream",
     "text": [
      "[Record(count=0)]\n",
      "[Record(count=0)]\n"
     ]
    }
   ],
   "source": [
    "row_count_hist = execute_query(\"select count(*) from user_history\", fetch_result=True)\n",
    "row_count_payment = execute_query(\"select count(*) from user_payment\", fetch_result=True)\n",
    "\n",
    "print(row_count_hist)\n",
    "print(row_count_payment)"
   ]
  },
  {
   "cell_type": "markdown",
   "id": "4c94ea8e",
   "metadata": {},
   "source": [
    "Видим выше, что никаких ошибок нет, а это значит, что у нас есть пустые таблицы, ими можно пользоватьсы :)"
   ]
  },
  {
   "cell_type": "code",
   "execution_count": 10,
   "id": "297574d2",
   "metadata": {},
   "outputs": [],
   "source": [
    "# заносим данные в таблицу\n",
    "# выполнили этот запрос дважды, поэтому получилась таблица с дубликатами\n",
    "query = \"\"\" INSERT INTO user_payment (user_id, created, sum_rub) \n",
    "            VALUES \n",
    "                 (1, to_timestamp('16-05-2021 15:36:38', 'dd-mm-yyyy hh24:mi:ss'), 100000),\n",
    "                 (2, to_timestamp('16-06-2018 14:36:38', 'dd-mm-yyyy hh24:mi:ss'), 150000),\n",
    "                 (3, to_timestamp('16-07-2020 09:36:38', 'dd-mm-yyyy hh24:mi:ss'), 200000)\n",
    "            \n",
    "        \"\"\"\n",
    "\n",
    "execute_query(query)"
   ]
  },
  {
   "cell_type": "code",
   "execution_count": 11,
   "id": "fb0edff0",
   "metadata": {},
   "outputs": [
    {
     "name": "stdout",
     "output_type": "stream",
     "text": [
      "0 Record(user_id=1, created=datetime.datetime(2021, 5, 16, 15, 36, 38), sum_rub=100000)\n",
      "1 Record(user_id=2, created=datetime.datetime(2018, 6, 16, 14, 36, 38), sum_rub=150000)\n",
      "2 Record(user_id=3, created=datetime.datetime(2020, 7, 16, 9, 36, 38), sum_rub=200000)\n",
      "3 Record(user_id=1, created=datetime.datetime(2021, 5, 16, 15, 36, 38), sum_rub=100000)\n",
      "4 Record(user_id=2, created=datetime.datetime(2018, 6, 16, 14, 36, 38), sum_rub=150000)\n",
      "5 Record(user_id=3, created=datetime.datetime(2020, 7, 16, 9, 36, 38), sum_rub=200000)\n"
     ]
    }
   ],
   "source": [
    "all_rows = execute_query(\"select * from user_payment\", fetch_result=True)\n",
    "\n",
    "for row, value in enumerate(all_rows):\n",
    "    print(row, value)"
   ]
  },
  {
   "cell_type": "code",
   "execution_count": 12,
   "id": "5a3f124d",
   "metadata": {},
   "outputs": [
    {
     "name": "stdout",
     "output_type": "stream",
     "text": [
      "[Record(user_id=2), Record(user_id=3), Record(user_id=2), Record(user_id=3)]\n",
      "-----\n",
      "user_id,sum_rub\n",
      "1,100000\n",
      "2,150000\n",
      "3,200000\n",
      "1,100000\n",
      "2,150000\n",
      "3,200000\n"
     ]
    }
   ],
   "source": [
    "# находим пользователей, у которых сумма больше или равна 150000\n",
    "users_with_more_150000 = execute_query(\"select user_id from user_payment where sum_rub >= 150000\", fetch_result=True)\n",
    "print(users_with_more_150000)\n",
    "\n",
    "# смотрим на все суммы по айдишникам\n",
    "all_rows = execute_query(\"select user_id, sum_rub from user_payment\", fetch_result=True)\n",
    "print(\"-----\")\n",
    "\n",
    "# создаем функцию, чтобы результаты предыдущего запроса красиво вывелись\n",
    "def print_pretty(rows):\n",
    "    title = 'user_id,sum_rub'\n",
    "    values = \"\\n\".join([\"{},{}\".format(elem.user_id, elem.sum_rub) for elem in rows])\n",
    "    \n",
    "    print(f\"{title}\\n{values}\")\n",
    "\n",
    "print_pretty(all_rows)"
   ]
  },
  {
   "cell_type": "code",
   "execution_count": 13,
   "id": "37823424",
   "metadata": {},
   "outputs": [
    {
     "name": "stdout",
     "output_type": "stream",
     "text": [
      "[Record(user_id=3), Record(user_id=2)]\n",
      "[Record(sum_rub=100000), Record(sum_rub=200000), Record(sum_rub=150000)]\n"
     ]
    }
   ],
   "source": [
    "# теперь ищем то же самое, но выводим только уникальные значения\n",
    "all_rows = execute_query(\"select distinct user_id from user_payment where sum_rub >= 150000\", fetch_result=True)\n",
    "print(all_rows)\n",
    "\n",
    "all_rows = execute_query(\"select distinct sum_rub from user_payment\", fetch_result=True)\n",
    "print(all_rows)"
   ]
  },
  {
   "cell_type": "code",
   "execution_count": 14,
   "id": "b77835a5",
   "metadata": {},
   "outputs": [
    {
     "name": "stdout",
     "output_type": "stream",
     "text": [
      "[Record(sum=900000)]\n",
      "[Record(avg=Decimal('150000.000000000000'))]\n",
      "[Record(max=200000)]\n",
      "[Record(min=100000)]\n"
     ]
    }
   ],
   "source": [
    "# просто прогоняем разные запросы\n",
    "result = execute_query(\"select sum(sum_rub) from user_payment\", fetch_result=True)\n",
    "print(result)\n",
    "result = execute_query(\"select avg(sum_rub) from user_payment\", fetch_result=True)\n",
    "print(result)\n",
    "result = execute_query(\"select max(sum_rub) from user_payment\", fetch_result=True)\n",
    "print(result)\n",
    "result = execute_query(\"select min(sum_rub) from user_payment\", fetch_result=True)\n",
    "print(result)"
   ]
  },
  {
   "cell_type": "code",
   "execution_count": 15,
   "id": "73df2950",
   "metadata": {},
   "outputs": [
    {
     "name": "stdout",
     "output_type": "stream",
     "text": [
      "[Record(max=datetime.datetime(2021, 5, 16, 15, 36, 38))]\n",
      "[Record(min=datetime.datetime(2018, 6, 16, 14, 36, 38))]\n",
      "2021-05-16 15:36:38\n",
      "2018-06-16 14:36:38\n",
      "2020-07-16 09:36:38\n",
      "2021-05-16 15:36:38\n",
      "2018-06-16 14:36:38\n",
      "2020-07-16 09:36:38\n"
     ]
    }
   ],
   "source": [
    "# максимальная дата - самая новая, минимальная - самая старая\n",
    "result = execute_query(\"select max(created) from user_payment\", fetch_result=True)\n",
    "print(result)\n",
    "\n",
    "result = execute_query(\"select min(created) from user_payment\", fetch_result=True)\n",
    "print(result)\n",
    "\n",
    "result = execute_query(\"select created from user_payment\", fetch_result=True)\n",
    "for row in result:\n",
    "    print(row.created)"
   ]
  },
  {
   "cell_type": "code",
   "execution_count": 16,
   "id": "18e654da",
   "metadata": {},
   "outputs": [
    {
     "name": "stdout",
     "output_type": "stream",
     "text": [
      "0 Record(user_id=1, created=datetime.datetime(2021, 5, 16, 15, 36, 38), sum_rub=100000)\n",
      "1 Record(user_id=1, created=datetime.datetime(2021, 5, 16, 15, 36, 38), sum_rub=100000)\n",
      "2 Record(user_id=3, created=datetime.datetime(2020, 7, 16, 9, 36, 38), sum_rub=200000)\n",
      "3 Record(user_id=3, created=datetime.datetime(2020, 7, 16, 9, 36, 38), sum_rub=200000)\n",
      "4 Record(user_id=2, created=datetime.datetime(2018, 6, 16, 14, 36, 38), sum_rub=150000)\n",
      "5 Record(user_id=2, created=datetime.datetime(2018, 6, 16, 14, 36, 38), sum_rub=150000)\n"
     ]
    }
   ],
   "source": [
    "# упорядочим по убыванию по дате\n",
    "result = execute_query(\"select * from user_payment order by created desc\", fetch_result=True)\n",
    "for row, value in enumerate(result):\n",
    "    print(row, value)"
   ]
  },
  {
   "cell_type": "code",
   "execution_count": 17,
   "id": "e78eb753",
   "metadata": {},
   "outputs": [
    {
     "name": "stdout",
     "output_type": "stream",
     "text": [
      "0 Record(user_id=1)\n",
      "1 Record(user_id=2)\n",
      "2 Record(user_id=3)\n"
     ]
    }
   ],
   "source": [
    "# упорядочим по возрастанию по айдишнику,asc можно не прописывать, стоит по умолчанию\n",
    "result = execute_query(\"select distinct user_id from user_payment order by user_id asc\", fetch_result=True)\n",
    "for row, value in enumerate(result):\n",
    "    print(row, value)"
   ]
  },
  {
   "cell_type": "code",
   "execution_count": 18,
   "id": "38c6de28",
   "metadata": {},
   "outputs": [],
   "source": [
    "# добавляем новые строки в таблицу\n",
    "query = \"\"\" INSERT INTO user_payment (user_id, created, sum_rub) \n",
    "            VALUES \n",
    "                 (1, to_timestamp('08-04-2017 11:36:38', 'dd-mm-yyyy hh24:mi:ss'), 100000),\n",
    "                 (2, to_timestamp('12-01-2008 10:36:38', 'dd-mm-yyyy hh24:mi:ss'), 150000),\n",
    "                 (3, to_timestamp('11-12-2022 23:36:38', 'dd-mm-yyyy hh24:mi:ss'), 200000)\n",
    "            \n",
    "        \"\"\"\n",
    "\n",
    "execute_query(query)"
   ]
  },
  {
   "cell_type": "code",
   "execution_count": 19,
   "id": "a173754b",
   "metadata": {},
   "outputs": [
    {
     "name": "stdout",
     "output_type": "stream",
     "text": [
      "0 Record(user_id=1, created=datetime.datetime(2021, 5, 16, 15, 36, 38), sum_rub=100000)\n",
      "1 Record(user_id=2, created=datetime.datetime(2018, 6, 16, 14, 36, 38), sum_rub=150000)\n",
      "2 Record(user_id=3, created=datetime.datetime(2020, 7, 16, 9, 36, 38), sum_rub=200000)\n",
      "3 Record(user_id=1, created=datetime.datetime(2021, 5, 16, 15, 36, 38), sum_rub=100000)\n",
      "4 Record(user_id=2, created=datetime.datetime(2018, 6, 16, 14, 36, 38), sum_rub=150000)\n",
      "5 Record(user_id=3, created=datetime.datetime(2020, 7, 16, 9, 36, 38), sum_rub=200000)\n",
      "6 Record(user_id=1, created=datetime.datetime(2017, 4, 8, 11, 36, 38), sum_rub=100000)\n",
      "7 Record(user_id=2, created=datetime.datetime(2008, 1, 12, 10, 36, 38), sum_rub=150000)\n",
      "8 Record(user_id=3, created=datetime.datetime(2022, 12, 11, 23, 36, 38), sum_rub=200000)\n",
      "0 Record(user_id=3)\n",
      "1 Record(user_id=2)\n",
      "2 Record(user_id=1)\n"
     ]
    }
   ],
   "source": [
    "# проверяем, появились или нет\n",
    "all_rows = execute_query(\"select * from user_payment\", fetch_result=True)\n",
    "for row, value in enumerate(all_rows):\n",
    "    print(row, value)\n",
    "    \n",
    "    \n",
    "all_rows = execute_query(\"select distinct user_id from user_payment\", fetch_result=True)\n",
    "for row, value in enumerate(all_rows):\n",
    "    print(row, value)    "
   ]
  },
  {
   "cell_type": "code",
   "execution_count": 20,
   "id": "f36ad912",
   "metadata": {},
   "outputs": [
    {
     "name": "stdout",
     "output_type": "stream",
     "text": [
      "0 Record(uid=3, payment_count=3)\n",
      "1 Record(uid=2, payment_count=3)\n",
      "2 Record(uid=1, payment_count=3)\n"
     ]
    }
   ],
   "source": [
    "# считаем, сколько у нас одинаковых айдишников по каждой группе, группируем по айдишнику\n",
    "all_rows = execute_query(\"select user_id as uid, count(*) as payment_count from user_payment group by user_id\", fetch_result=True)\n",
    "for row, value in enumerate(all_rows):\n",
    "    print(row, value)"
   ]
  },
  {
   "cell_type": "code",
   "execution_count": 21,
   "id": "17737a72",
   "metadata": {},
   "outputs": [
    {
     "name": "stdout",
     "output_type": "stream",
     "text": [
      "0 Record(sum_rub=100000, user_count=3)\n",
      "1 Record(sum_rub=200000, user_count=3)\n",
      "2 Record(sum_rub=150000, user_count=3)\n"
     ]
    }
   ],
   "source": [
    "# считаем количество пользователей, которым выплатили по 100000, 150000 и 200000, группируем по сумме\n",
    "all_rows = execute_query(\"select sum_rub, count(*) as user_count from user_payment group by sum_rub\", fetch_result=True)\n",
    "for row, value in enumerate(all_rows):\n",
    "    print(row, value)"
   ]
  },
  {
   "cell_type": "code",
   "execution_count": 22,
   "id": "5d597f2d",
   "metadata": {},
   "outputs": [
    {
     "name": "stdout",
     "output_type": "stream",
     "text": [
      "0 3 2020-07-16 09:36:38\n",
      "1 2 2008-01-12 10:36:38\n",
      "2 1 2017-04-08 11:36:38\n"
     ]
    }
   ],
   "source": [
    "# когда каждому пользователю впервые были выплачены деньги\n",
    "all_rows = execute_query(\"select user_id, min(created) as first_payment_date from user_payment group by user_id\", fetch_result=True)\n",
    "for row, value in enumerate(all_rows):\n",
    "    print(row, value.user_id, value.first_payment_date)"
   ]
  },
  {
   "cell_type": "code",
   "execution_count": 23,
   "id": "940d61a4",
   "metadata": {},
   "outputs": [
    {
     "name": "stdout",
     "output_type": "stream",
     "text": [
      "[Record(id=1, name='Juice', price=150), Record(id=2, name='Apple', price=200), Record(id=3, name='Orange', price=120)]\n",
      "[Record(item_id=1, dlvr_time=datetime.datetime(2017, 4, 8, 11, 36, 38), cnt=10), Record(item_id=2, dlvr_time=datetime.datetime(2008, 1, 12, 10, 36, 38), cnt=20), Record(item_id=3, dlvr_time=datetime.datetime(2022, 12, 11, 23, 36, 38), cnt=30), Record(item_id=2, dlvr_time=datetime.datetime(2008, 1, 14, 10, 36, 38), cnt=10), Record(item_id=3, dlvr_time=datetime.datetime(2022, 12, 16, 23, 36, 38), cnt=15)]\n"
     ]
    }
   ],
   "source": [
    "# практика в создании таблиц и наполнение их данными\n",
    "query = \"\"\"CREATE TABLE item (\n",
    "                         id         INT       NOT NULL,\n",
    "                         name       TEXT      NOT NULL,\n",
    "                         price      INT       NOT NULL\n",
    "                         \n",
    "                  );\n",
    "        \"\"\"\n",
    "\n",
    "execute_query(query)\n",
    "\n",
    "\n",
    "query = \"\"\"CREATE TABLE item_delivery (\n",
    "                         item_id    INT       NOT NULL,\n",
    "                         dlvr_time  TIMESTAMP NOT NULL,\n",
    "                         cnt        INT       NOT NULL\n",
    "                         \n",
    "                  );\n",
    "        \"\"\"\n",
    "\n",
    "execute_query(query)\n",
    "\n",
    "\n",
    "query = \"\"\" INSERT INTO item (id, name, price) \n",
    "            VALUES \n",
    "                 (1, 'Juice', 150),\n",
    "                 (2, 'Apple', 200),\n",
    "                 (3, 'Orange', 120)\n",
    "            \n",
    "        \"\"\"\n",
    "\n",
    "execute_query(query)\n",
    "\n",
    "\n",
    "query = \"\"\" INSERT INTO item_delivery (item_id, dlvr_time, cnt) \n",
    "            VALUES \n",
    "                 (1, to_timestamp('08-04-2017 11:36:38', 'dd-mm-yyyy hh24:mi:ss'), 10),\n",
    "                 (2, to_timestamp('12-01-2008 10:36:38', 'dd-mm-yyyy hh24:mi:ss'), 20),\n",
    "                 (3, to_timestamp('11-12-2022 23:36:38', 'dd-mm-yyyy hh24:mi:ss'), 30),\n",
    "                 (2, to_timestamp('14-01-2008 10:36:38', 'dd-mm-yyyy hh24:mi:ss'), 10),\n",
    "                 (3, to_timestamp('16-12-2022 23:36:38', 'dd-mm-yyyy hh24:mi:ss'), 15)\n",
    "            \n",
    "        \"\"\"\n",
    "\n",
    "execute_query(query)\n",
    "\n",
    "\n",
    "print(execute_query(\"select * from item\", fetch_result=True))\n",
    "print(execute_query(\"select * from item_delivery\", fetch_result=True))"
   ]
  },
  {
   "cell_type": "markdown",
   "id": "a9053e47",
   "metadata": {},
   "source": [
    "Есть пользователи, которые ставят друг другу лайки. Создать таблицы для хранения инфы. Написать запрос, который выведет id пользователя, имя, лайков получено, лайков поставлено, взаимных лайков. Написать запрос, который посчитает 5 самых популярных пользователей"
   ]
  },
  {
   "cell_type": "code",
   "execution_count": 3,
   "id": "65813eac",
   "metadata": {},
   "outputs": [
    {
     "name": "stdout",
     "output_type": "stream",
     "text": [
      "DROP TABLE IF EXISTS users;\n",
      "DROP TABLE IF EXISTS likes;\n",
      "CREATE TABLE users (\n",
      "                         user_id    INT       NOT NULL,\n",
      "                         name    TEXT       NOT NULL,\n",
      "                         created    TIMESTAMP NOT NULL\n",
      "                );\n",
      "                \n",
      "CREATE TABLE likes (\n",
      "                         user_id    INT       NOT NULL,\n",
      "                         created    TIMESTAMP NOT NULL,\n",
      "                         user_id_give    INT       NOT NULL\n",
      "                  );\n",
      "                \n"
     ]
    }
   ],
   "source": [
    "import psycopg2 as pg_driver\n",
    "\n",
    "db = pg_driver.connect(\n",
    "    database=\"testdb\", \n",
    "    user='testuser',\n",
    "    password='testuser', \n",
    "    host='localhost', \n",
    "    port='5432'\n",
    ")\n",
    "\n",
    "\n",
    "def execute_queries(db, sql_commands):\n",
    "    db.autocommit = True\n",
    "    # тот же самый курсор\n",
    "    with db.cursor() as cursor:\n",
    "        # в цикле поочередно выполняем запросы\n",
    "        for sql_command in sql_commands:\n",
    "            print(sql_command)\n",
    "            # тот же самый .execute() для выполнения запроса\n",
    "            cursor.execute(sql_command)\n",
    "            \n",
    "# создаем две таблицы пользователи и лайки           \n",
    "sql_commands = [\"DROP TABLE IF EXISTS users;\",\n",
    "                \"DROP TABLE IF EXISTS likes;\",\n",
    "                \"\"\"CREATE TABLE users (\n",
    "                         user_id    INT       NOT NULL,\n",
    "                         name    TEXT       NOT NULL,\n",
    "                         created    TIMESTAMP NOT NULL\n",
    "                );\n",
    "                \"\"\",\n",
    "                \"\"\"CREATE TABLE likes (\n",
    "                         user_id    INT       NOT NULL,\n",
    "                         created    TIMESTAMP NOT NULL,\n",
    "                         user_id_give    INT       NOT NULL\n",
    "                  );\n",
    "                \"\"\"]\n",
    "\n",
    "\n",
    "execute_queries(db, sql_commands)"
   ]
  },
  {
   "cell_type": "code",
   "execution_count": 2,
   "id": "22384e1b",
   "metadata": {},
   "outputs": [
    {
     "name": "stdout",
     "output_type": "stream",
     "text": [
      "[Record(count=0)]\n",
      "[Record(count=0)]\n"
     ]
    }
   ],
   "source": [
    "import psycopg2\n",
    "from psycopg2 import Error\n",
    "from psycopg2.extras import NamedTupleCursor\n",
    "\n",
    "def execute_query(query, fetch_result=False):\n",
    "    try:\n",
    "        connection = pg_driver.connect(\n",
    "                     database=\"testdb\", \n",
    "                     user='testuser',\n",
    "                     password='testuser', \n",
    "                     host='localhost', \n",
    "                     port='5432'\n",
    "                 );\n",
    "        \n",
    "        connection.autocommit = True\n",
    "        cursor = connection.cursor(cursor_factory=NamedTupleCursor)\n",
    "        cursor.execute(query)\n",
    "        if fetch_result:\n",
    "            return cursor.fetchall()\n",
    "    except (Exception, Error) as error:\n",
    "        print(\"Error while connecting to PostgreSQL\", error)\n",
    "    finally:\n",
    "        if (connection):\n",
    "            cursor.close()\n",
    "            connection.close()\n",
    "\n",
    "# проверяем, что пустые таблицы созданы\n",
    "row_count_hist = execute_query(\"select count(*) from users\", fetch_result=True)\n",
    "row_count_payment = execute_query(\"select count(*) from likes\", fetch_result=True)\n",
    "\n",
    "print(row_count_hist)\n",
    "print(row_count_payment)"
   ]
  },
  {
   "cell_type": "code",
   "execution_count": 4,
   "id": "668e088b",
   "metadata": {},
   "outputs": [],
   "source": [
    "query = \"\"\" INSERT INTO users (user_id, created, name) \n",
    "            VALUES \n",
    "                 (1, to_timestamp('16-05-2021 15:36:38', 'dd-mm-yyyy hh24:mi:ss'), 'Mark'),\n",
    "                 (2, to_timestamp('16-06-2018 14:36:38', 'dd-mm-yyyy hh24:mi:ss'), 'Dima'),\n",
    "                 (3, to_timestamp('16-07-2020 09:36:38', 'dd-mm-yyyy hh24:mi:ss'), 'Phill'),\n",
    "                 (4, to_timestamp('16-06-2018 15:36:38', 'dd-mm-yyyy hh24:mi:ss'), 'Viktor'),\n",
    "                 (5, to_timestamp('16-06-2018 16:36:38', 'dd-mm-yyyy hh24:mi:ss'), 'Ivan')\n",
    "                 \n",
    "            \n",
    "        \"\"\"\n",
    "\n",
    "execute_query(query)\n",
    "\n",
    "query = \"\"\" INSERT INTO likes (user_id, created, user_id_give) \n",
    "            VALUES \n",
    "                 (1, to_timestamp('16-05-2021 15:36:38', 'dd-mm-yyyy hh24:mi:ss'), 5),\n",
    "                 (2, to_timestamp('16-06-2018 14:36:38', 'dd-mm-yyyy hh24:mi:ss'), 4),\n",
    "                 (3, to_timestamp('16-07-2020 09:36:38', 'dd-mm-yyyy hh24:mi:ss'), 3),\n",
    "                 (4, to_timestamp('16-06-2018 15:36:38', 'dd-mm-yyyy hh24:mi:ss'), 2),\n",
    "                 (5, to_timestamp('16-06-2018 16:36:38', 'dd-mm-yyyy hh24:mi:ss'), 1)\n",
    "                 \n",
    "            \n",
    "        \"\"\"\n",
    "\n",
    "execute_query(query)"
   ]
  },
  {
   "cell_type": "code",
   "execution_count": 5,
   "id": "34ca99fa",
   "metadata": {},
   "outputs": [],
   "source": [
    "query = \"\"\" INSERT INTO likes (user_id, created, user_id_give) \n",
    "            VALUES \n",
    "                 (1, to_timestamp('16-05-2021 15:36:38', 'dd-mm-yyyy hh24:mi:ss'), 4),\n",
    "                 (1, to_timestamp('16-06-2018 14:36:38', 'dd-mm-yyyy hh24:mi:ss'), 5),\n",
    "                 (2, to_timestamp('16-06-2018 14:36:38', 'dd-mm-yyyy hh24:mi:ss'), 5)\n",
    "                 \n",
    "\n",
    "                 \n",
    "            \n",
    "        \"\"\"\n",
    "\n",
    "execute_query(query)"
   ]
  },
  {
   "cell_type": "code",
   "execution_count": 6,
   "id": "07dcb14b",
   "metadata": {},
   "outputs": [
    {
     "name": "stdout",
     "output_type": "stream",
     "text": [
      "0 Record(user_id=3, count=1)\n",
      "1 Record(user_id=5, count=1)\n",
      "2 Record(user_id=4, count=1)\n",
      "3 Record(user_id=2, count=2)\n",
      "4 Record(user_id=1, count=3)\n"
     ]
    }
   ],
   "source": [
    "# считаем, сколько раз один и тот же пользователь встречается в таблице лайки, групируем по пользователям\n",
    "all_rows = execute_query(\"select user_id, count(*) from likes group by user_id\", fetch_result=True)\n",
    "for row, value in enumerate(all_rows):\n",
    "    print(row, value)"
   ]
  },
  {
   "cell_type": "code",
   "execution_count": 7,
   "id": "872bce9f",
   "metadata": {},
   "outputs": [
    {
     "name": "stdout",
     "output_type": "stream",
     "text": [
      "0 Record(user_id=1, count=3)\n"
     ]
    }
   ],
   "source": [
    "# достаем эти данные только для первого пользователя\n",
    "all_rows = execute_query(\"select user_id, count(*) from likes where user_id=1 group by user_id\", fetch_result=True)\n",
    "for row, value in enumerate(all_rows):\n",
    "    print(row, value)"
   ]
  },
  {
   "cell_type": "code",
   "execution_count": 8,
   "id": "ce843f83",
   "metadata": {},
   "outputs": [
    {
     "name": "stdout",
     "output_type": "stream",
     "text": [
      "0 Record(user_id=1, name='Mark')\n",
      "1 Record(user_id=1, name='Mark')\n",
      "2 Record(user_id=1, name='Mark')\n"
     ]
    }
   ],
   "source": [
    "# соединяем таблицы. из левой (упоминается первой - лайки) попадут все данные. если во второй нет соответствия первой, \n",
    "# в этих строках будет null\n",
    "query = \"\"\"select l.user_id, u.name \n",
    "           from likes l\n",
    "           left join users u\n",
    "           on l.user_id=u.user_id\n",
    "           where l.user_id=1 \n",
    "           \n",
    "        \"\"\"\n",
    "all_rows = execute_query(query, fetch_result=True)\n",
    "for row, value in enumerate(all_rows):\n",
    "    print(row, value)"
   ]
  },
  {
   "cell_type": "code",
   "execution_count": 8,
   "id": "bf5fb307",
   "metadata": {},
   "outputs": [
    {
     "name": "stdout",
     "output_type": "stream",
     "text": [
      "0 Record(from_id=5, from_name='Ivan', to_id=1, to_name='Mark')\n",
      "1 Record(from_id=4, from_name='Viktor', to_id=2, to_name='Dima')\n",
      "2 Record(from_id=3, from_name='Phill', to_id=3, to_name='Phill')\n",
      "3 Record(from_id=2, from_name='Dima', to_id=4, to_name='Viktor')\n",
      "4 Record(from_id=1, from_name='Mark', to_id=4, to_name='Viktor')\n",
      "5 Record(from_id=1, from_name='Mark', to_id=5, to_name='Ivan')\n",
      "6 Record(from_id=2, from_name='Dima', to_id=5, to_name='Ivan')\n",
      "7 Record(from_id=1, from_name='Mark', to_id=5, to_name='Ivan')\n"
     ]
    }
   ],
   "source": [
    "# узнаем, кто кому ставил лайки. джойним два раза таблицу пользователи, но приравниваем к имени пользователя разные стобцы\n",
    "# из таблицы лайки. чтобы не запутаться, присваиваем в начале разные имена одной и той же колонке имя пользователя u.name и us.name\n",
    "query = \"\"\"select\n",
    "                l.user_id as from_id,\n",
    "                u.name as from_name,\n",
    "                l.user_id_give as to_id,\n",
    "                us.name as to_name\n",
    "           from likes l\n",
    "           left join users u\n",
    "           on l.user_id=u.user_id\n",
    "           left join users us\n",
    "           on l.user_id_give=us.user_id\n",
    "           \n",
    "        \"\"\"\n",
    "all_rows = execute_query(query, fetch_result=True)\n",
    "for row, value in enumerate(all_rows):\n",
    "    print(row, value)"
   ]
  },
  {
   "cell_type": "code",
   "execution_count": 9,
   "id": "9f816dfc",
   "metadata": {},
   "outputs": [],
   "source": [
    "query = \"\"\" INSERT INTO users (user_id, created, name) \n",
    "            VALUES \n",
    "                 (10, to_timestamp('16-05-2021 15:36:38', 'dd-mm-yyyy hh24:mi:ss'), 'Mark')\n",
    " \n",
    "        \"\"\"\n",
    "\n",
    "execute_query(query)\n",
    "\n",
    "query = \"\"\" INSERT INTO likes (user_id, created, user_id_give) \n",
    "            VALUES \n",
    "                 (10, to_timestamp('16-05-2021 15:36:38', 'dd-mm-yyyy hh24:mi:ss'), 4)\n",
    "            \n",
    "        \"\"\"\n",
    "\n",
    "execute_query(query)"
   ]
  },
  {
   "cell_type": "code",
   "execution_count": 10,
   "id": "dae3fc55",
   "metadata": {},
   "outputs": [
    {
     "name": "stdout",
     "output_type": "stream",
     "text": [
      "0 Record(from_id=4, from_name='Viktor', like_count=1)\n",
      "1 Record(from_id=1, from_name='Mark', like_count=3)\n",
      "2 Record(from_id=3, from_name='Phill', like_count=1)\n",
      "3 Record(from_id=10, from_name='Mark', like_count=1)\n",
      "4 Record(from_id=2, from_name='Dima', like_count=2)\n",
      "5 Record(from_id=5, from_name='Ivan', like_count=1)\n"
     ]
    }
   ],
   "source": [
    "# считаем, сколько каждый пользователь поставил лайков, группируем по айди пользователя, иначе ругается\n",
    "query = \"\"\"select\n",
    "                l.user_id as from_id,\n",
    "                u.name as from_name,\n",
    "                count(*) as like_count\n",
    "                \n",
    "           from likes l\n",
    "           left join users u\n",
    "           on l.user_id=u.user_id\n",
    "           group by l.user_id, u.name\n",
    "           \n",
    "        \"\"\"\n",
    "all_rows = execute_query(query, fetch_result=True)\n",
    "for row, value in enumerate(all_rows):\n",
    "    print(row, value)"
   ]
  },
  {
   "cell_type": "code",
   "execution_count": 11,
   "id": "77b40fb4",
   "metadata": {},
   "outputs": [
    {
     "name": "stdout",
     "output_type": "stream",
     "text": [
      "0 Record(from_name='Viktor', like_count=1)\n",
      "1 Record(from_name='Phill', like_count=1)\n",
      "2 Record(from_name='Ivan', like_count=1)\n",
      "3 Record(from_name='Mark', like_count=4)\n",
      "4 Record(from_name='Dima', like_count=2)\n"
     ]
    }
   ],
   "source": [
    "# но так у нас Марк получился два раза. чтоб этого не было, группируем по имени пользователя и чтоб не ругалось, \n",
    "# закоментируем графу айди с помощью --\n",
    "query = \"\"\"select\n",
    "                --l.user_id as from_id,\n",
    "                u.name as from_name,\n",
    "                count(*) as like_count\n",
    "                \n",
    "           from likes l\n",
    "           left join users u\n",
    "           on l.user_id=u.user_id\n",
    "           group by u.name\n",
    "           \n",
    "        \"\"\"\n",
    "all_rows = execute_query(query, fetch_result=True)\n",
    "for row, value in enumerate(all_rows):\n",
    "    print(row, value)"
   ]
  },
  {
   "cell_type": "code",
   "execution_count": 12,
   "id": "75f73ccf",
   "metadata": {},
   "outputs": [
    {
     "name": "stdout",
     "output_type": "stream",
     "text": [
      "0 Record(to_id=4, to_name='Viktor', like_count=3)\n",
      "1 Record(to_id=1, to_name='Mark', like_count=1)\n",
      "2 Record(to_id=3, to_name='Phill', like_count=1)\n",
      "3 Record(to_id=2, to_name='Dima', like_count=1)\n",
      "4 Record(to_id=5, to_name='Ivan', like_count=3)\n"
     ]
    }
   ],
   "source": [
    "# считаем, сколько каждый пользователь получил лайков\n",
    "query = \"\"\"select\n",
    "                l.user_id_give as to_id,\n",
    "                u.name as to_name,\n",
    "                count(*) as like_count\n",
    "                \n",
    "           from likes l\n",
    "           left join users u\n",
    "           on l.user_id_give=u.user_id\n",
    "           group by l.user_id_give, u.name\n",
    "           \n",
    "        \"\"\"\n",
    "all_rows = execute_query(query, fetch_result=True)\n",
    "for row, value in enumerate(all_rows):\n",
    "    print(row, value)"
   ]
  },
  {
   "cell_type": "code",
   "execution_count": 13,
   "id": "e77cfca8",
   "metadata": {},
   "outputs": [
    {
     "name": "stdout",
     "output_type": "stream",
     "text": [
      "0 Record(user_id=5, created=datetime.datetime(2018, 6, 16, 16, 36, 38), user_id_give=1)\n",
      "1 Record(user_id=4, created=datetime.datetime(2018, 6, 16, 15, 36, 38), user_id_give=2)\n",
      "2 Record(user_id=3, created=datetime.datetime(2020, 7, 16, 9, 36, 38), user_id_give=3)\n",
      "3 Record(user_id=10, created=datetime.datetime(2021, 5, 16, 15, 36, 38), user_id_give=4)\n",
      "4 Record(user_id=2, created=datetime.datetime(2018, 6, 16, 14, 36, 38), user_id_give=4)\n",
      "5 Record(user_id=1, created=datetime.datetime(2021, 5, 16, 15, 36, 38), user_id_give=4)\n",
      "6 Record(user_id=1, created=datetime.datetime(2018, 6, 16, 14, 36, 38), user_id_give=5)\n",
      "7 Record(user_id=2, created=datetime.datetime(2018, 6, 16, 14, 36, 38), user_id_give=5)\n",
      "8 Record(user_id=1, created=datetime.datetime(2021, 5, 16, 15, 36, 38), user_id_give=5)\n"
     ]
    }
   ],
   "source": [
    "query = \"\"\"select *\n",
    "                \n",
    "           from likes l\n",
    "           order by l.user_id_give\n",
    "           \n",
    "        \"\"\"\n",
    "all_rows = execute_query(query, fetch_result=True)\n",
    "for row, value in enumerate(all_rows):\n",
    "    print(row, value)"
   ]
  },
  {
   "cell_type": "code",
   "execution_count": 14,
   "id": "1664d6c5",
   "metadata": {},
   "outputs": [],
   "source": [
    "query = \"\"\" INSERT INTO users (user_id, created, name) \n",
    "            VALUES \n",
    "                 (8, to_timestamp('16-05-2021 15:36:38', 'dd-mm-yyyy hh24:mi:ss'), 'Damir')\n",
    " \n",
    "        \"\"\"\n",
    "\n",
    "execute_query(query)"
   ]
  },
  {
   "cell_type": "code",
   "execution_count": 15,
   "id": "7a598ab1",
   "metadata": {},
   "outputs": [
    {
     "name": "stdout",
     "output_type": "stream",
     "text": [
      "0 Record(user_id=8, user_name='Damir', to_id=None)\n"
     ]
    }
   ],
   "source": [
    "# находим пользователя, который не поставил ни одного лайка\n",
    "query = \"\"\"select\n",
    "                \n",
    "                u.user_id as user_id,\n",
    "                u.name as user_name,\n",
    "                l.user_id_give as to_id\n",
    "                \n",
    "                \n",
    "           from users u\n",
    "           left join likes l\n",
    "           on u.user_id=l.user_id\n",
    "           where l.user_id_give is null\n",
    "           order by u.user_id  \n",
    "        \"\"\"\n",
    "all_rows = execute_query(query, fetch_result=True)\n",
    "for row, value in enumerate(all_rows):\n",
    "    print(row, value)"
   ]
  },
  {
   "cell_type": "code",
   "execution_count": 28,
   "id": "36d9cf61",
   "metadata": {},
   "outputs": [
    {
     "name": "stdout",
     "output_type": "stream",
     "text": [
      "0 Record(user_id=1, user_id_give=5, like_count=2)\n",
      "1 Record(user_id=2, user_id_give=4, like_count=1)\n",
      "2 Record(user_id=3, user_id_give=3, like_count=1)\n",
      "3 Record(user_id=4, user_id_give=2, like_count=1)\n",
      "4 Record(user_id=5, user_id_give=1, like_count=2)\n"
     ]
    }
   ],
   "source": [
    "# считаем взаимные лайки\n",
    "query = \"\"\"select t1.user_id, t1.user_id_give,\n",
    "           count(*) as like_count\n",
    "                \n",
    "           from likes t1\n",
    "           inner join likes t2\n",
    "           on t1.user_id_give=t2.user_id\n",
    "           where t2.user_id_give=t1.user_id \n",
    "           group by t1.user_id_give, t1.user_id\n",
    "           \n",
    "        \"\"\"\n",
    "all_rows = execute_query(query, fetch_result=True)\n",
    "for row, value in enumerate(all_rows):\n",
    "    print(row, value)"
   ]
  },
  {
   "cell_type": "code",
   "execution_count": 22,
   "id": "cd93cb59",
   "metadata": {},
   "outputs": [
    {
     "name": "stdout",
     "output_type": "stream",
     "text": [
      "0 Record(to_id=5, to_name='Ivan', like_count=3)\n",
      "1 Record(to_id=4, to_name='Viktor', like_count=3)\n",
      "2 Record(to_id=3, to_name='Phill', like_count=1)\n",
      "3 Record(to_id=2, to_name='Dima', like_count=1)\n",
      "4 Record(to_id=1, to_name='Mark', like_count=1)\n"
     ]
    }
   ],
   "source": [
    "# выводим 5 самых популярных пользователей\n",
    "query = \"\"\"select\n",
    "                l.user_id_give as to_id,\n",
    "                u.name as to_name,\n",
    "                count(*) as like_count\n",
    "                \n",
    "           from likes l\n",
    "           left join users u\n",
    "           on l.user_id_give=u.user_id\n",
    "           group by l.user_id_give, u.name\n",
    "           order by l.user_id_give DESC\n",
    "           limit 5\n",
    "           \n",
    "        \"\"\"\n",
    "all_rows = execute_query(query, fetch_result=True)\n",
    "for row, value in enumerate(all_rows):\n",
    "    print(row, value)   "
   ]
  },
  {
   "cell_type": "code",
   "execution_count": null,
   "id": "c0766368",
   "metadata": {},
   "outputs": [],
   "source": []
  },
  {
   "cell_type": "markdown",
   "id": "29440551",
   "metadata": {},
   "source": [
    "В воображаемой социальной сети есть Пользователи (айди, имя), Фото (айди, название, автор) и Комментарии к фото (айди, текст, автор, айди фото). Необходимо добавить возможность для пользователей ставить лайки другим пользователям, фото или комментариям к фото. Нужно реализовать такие возможности:\n",
    "пользователь имеет право отозвать лайк;\n",
    "необходимо иметь возможность посчитать число полученных сущностью лайков и вывести список пользователей, поставивших лайки;\n",
    "в будущем могут появиться новые виды сущностей, которые можно лайкать."
   ]
  },
  {
   "cell_type": "code",
   "execution_count": 38,
   "id": "f74f2e2a",
   "metadata": {},
   "outputs": [
    {
     "name": "stdout",
     "output_type": "stream",
     "text": [
      "DROP TABLE IF EXISTS users2;\n",
      "DROP TABLE IF EXISTS photos;\n",
      "DROP TABLE IF EXISTS comments;DROP TABLE IF EXISTS likes;\n",
      "CREATE TABLE users2 (\n",
      "                         user_id    INT       NOT NULL,\n",
      "                         name    TEXT       NOT NULL\n",
      "                );\n",
      "                \n",
      "CREATE TABLE photos (\n",
      "                         photo_id    INT       NOT NULL,\n",
      "                         photo_name    TEXT       NOT NULL,\n",
      "                         author_id    INT       NOT NULL\n",
      "                  );\n",
      "                \n",
      "CREATE TABLE comments (\n",
      "                         comment_id    INT       NOT NULL,\n",
      "                         user_id    INT       NOT NULL,\n",
      "                         text    TEXT       NOT NULL,\n",
      "                         author_id    INT       NOT NULL,\n",
      "                         photo_id    INT       NOT NULL\n",
      "                );\n",
      "                \n",
      "CREATE TABLE likes (\n",
      "                         user_from    INT       NOT NULL,\n",
      "                         entity_type       TEXT       NOT NULL,\n",
      "                         entity_id    INT       NOT NULL,\n",
      "                         user_to     INT       NOT NULL    \n",
      "                         \n",
      "                );\n",
      "                \n"
     ]
    }
   ],
   "source": [
    "import psycopg2 as pg_driver\n",
    "\n",
    "db = pg_driver.connect(\n",
    "    database=\"testdb\", \n",
    "    user='testuser',\n",
    "    password='testuser', \n",
    "    host='localhost', \n",
    "    port='5432'\n",
    ")\n",
    "\n",
    "\n",
    "def execute_queries(db, sql_commands):\n",
    "    db.autocommit = True\n",
    "    # тот же самый курсор\n",
    "    with db.cursor() as cursor:\n",
    "        # в цикле поочередно выполняем запросы\n",
    "        for sql_command in sql_commands:\n",
    "            print(sql_command)\n",
    "            # тот же самый .execute() для выполнения запроса\n",
    "            cursor.execute(sql_command)\n",
    "            \n",
    "sql_commands = [\"DROP TABLE IF EXISTS users2;\",\n",
    "                \"DROP TABLE IF EXISTS photos;\",\n",
    "                \"DROP TABLE IF EXISTS comments;\"\n",
    "                \"DROP TABLE IF EXISTS likes;\",\n",
    "                \"\"\"CREATE TABLE users2 (\n",
    "                         user_id    INT       NOT NULL,\n",
    "                         name    TEXT       NOT NULL\n",
    "                );\n",
    "                \"\"\",\n",
    "                \"\"\"CREATE TABLE photos (\n",
    "                         photo_id    INT       NOT NULL,\n",
    "                         photo_name    TEXT       NOT NULL,\n",
    "                         author_id    INT       NOT NULL\n",
    "                  );\n",
    "                \"\"\",\n",
    "               \"\"\"CREATE TABLE comments (\n",
    "                         comment_id    INT       NOT NULL,\n",
    "                         user_id    INT       NOT NULL,\n",
    "                         text    TEXT       NOT NULL,\n",
    "                         author_id    INT       NOT NULL,\n",
    "                         photo_id    INT       NOT NULL\n",
    "                );\n",
    "                \"\"\",\n",
    "               \"\"\"CREATE TABLE likes (\n",
    "                         user_from    INT       NOT NULL,\n",
    "                         entity_type       TEXT       NOT NULL,\n",
    "                         entity_id    INT       NOT NULL,\n",
    "                         user_to     INT       NOT NULL    \n",
    "                         \n",
    "                );\n",
    "                \"\"\"]\n",
    "\n",
    "\n",
    "execute_queries(db, sql_commands)"
   ]
  },
  {
   "cell_type": "code",
   "execution_count": 39,
   "id": "49d447a9",
   "metadata": {},
   "outputs": [
    {
     "name": "stdout",
     "output_type": "stream",
     "text": [
      "[Record(count=0)]\n",
      "[Record(count=0)]\n",
      "[Record(count=0)]\n",
      "[Record(count=0)]\n"
     ]
    }
   ],
   "source": [
    "import psycopg2\n",
    "from psycopg2 import Error\n",
    "from psycopg2.extras import NamedTupleCursor\n",
    "\n",
    "def execute_query(query, fetch_result=False):\n",
    "    try:\n",
    "        connection = pg_driver.connect(\n",
    "                     database=\"testdb\", \n",
    "                     user='testuser',\n",
    "                     password='testuser', \n",
    "                     host='localhost', \n",
    "                     port='5432'\n",
    "                 );\n",
    "        \n",
    "        connection.autocommit = True\n",
    "        cursor = connection.cursor(cursor_factory=NamedTupleCursor)\n",
    "        cursor.execute(query)\n",
    "        if fetch_result:\n",
    "            return cursor.fetchall()\n",
    "    except (Exception, Error) as error:\n",
    "        print(\"Error while connecting to PostgreSQL\", error)\n",
    "    finally:\n",
    "        if (connection):\n",
    "            cursor.close()\n",
    "            connection.close()\n",
    "\n",
    "# проверяем, что пустые таблицы созданы\n",
    "row_count_hist = execute_query(\"select count(*) from users2\", fetch_result=True)\n",
    "row_count_payment = execute_query(\"select count(*) from photos\", fetch_result=True)\n",
    "row_count_comm = execute_query(\"select count(*) from comments\", fetch_result=True)\n",
    "row_count_lik = execute_query(\"select count(*) from likes\", fetch_result=True)\n",
    "\n",
    "print(row_count_hist)\n",
    "print(row_count_payment)\n",
    "print(row_count_comm)\n",
    "print(row_count_lik)"
   ]
  },
  {
   "cell_type": "code",
   "execution_count": 40,
   "id": "bac05eaf",
   "metadata": {},
   "outputs": [],
   "source": [
    "query = \"\"\" INSERT INTO users2 (user_id, name) \n",
    "            VALUES \n",
    "                 (1, 'Mark'),\n",
    "                 (2, 'Dima'),\n",
    "                 (3, 'Pina'),\n",
    "                 (4, 'Alice'),\n",
    "                 (5, 'Rob'),\n",
    "                 (6, 'Ann'),\n",
    "                 (7, 'Jin')\n",
    "                 \n",
    "            \n",
    "        \"\"\"\n",
    "\n",
    "execute_query(query)\n",
    "\n",
    "query = \"\"\" INSERT INTO photos (photo_id, photo_name, author_id ) \n",
    "            VALUES \n",
    "                 (1, 'Forest', 5),\n",
    "                 (2, 'River', 4),\n",
    "                 (3, 'City', 3),\n",
    "                 (4, 'Portret', 7),\n",
    "                 (5, 'Street', 1),\n",
    "                 (6, 'Member', 7),\n",
    "                 (7, 'Home', 4),\n",
    "                 (8, 'Peach', 6),\n",
    "                 (9, 'Flowers', 4),\n",
    "                 (10, 'Cats', 2),\n",
    "                 (11, 'Dogs', 2)\n",
    "                 \n",
    "            \n",
    "        \"\"\"\n",
    "\n",
    "execute_query(query)\n",
    "\n",
    "query = \"\"\" INSERT INTO comments (comment_id, user_id, text, author_id, photo_id ) \n",
    "            VALUES \n",
    "                 (1, 1, 'Cool', 6, 8),\n",
    "                 (2, 7, 'Cute', 2, 10),\n",
    "                 (3, 4, 'Want to be there', 5, 1),\n",
    "                 (4, 4, 'WWH', 7, 4),\n",
    "                 (5, 5, 'Beautiful', 4, 9)\n",
    "                 \n",
    "            \n",
    "        \"\"\"\n",
    "\n",
    "execute_query(query)\n",
    "\n",
    "query = \"\"\" INSERT INTO likes (user_from, entity_type, entity_id, user_to) \n",
    "            VALUES \n",
    "                 (1, 'person', 3, 3),\n",
    "                 (2, 'photo', 5, 1),\n",
    "                 (3, 'comment', 3, 4),\n",
    "                 (4, 'photo', 8, 6),\n",
    "                 (5, 'person', 7, 7)\n",
    "            \n",
    "        \"\"\"\n",
    "\n",
    "execute_query(query)"
   ]
  },
  {
   "cell_type": "code",
   "execution_count": 41,
   "id": "4a70fa2c",
   "metadata": {},
   "outputs": [
    {
     "name": "stdout",
     "output_type": "stream",
     "text": [
      "0 Record(user_id=1, name='Mark')\n",
      "1 Record(user_id=2, name='Dima')\n",
      "2 Record(user_id=3, name='Pina')\n",
      "3 Record(user_id=4, name='Alice')\n",
      "4 Record(user_id=5, name='Rob')\n",
      "5 Record(user_id=6, name='Ann')\n",
      "6 Record(user_id=7, name='Jin')\n"
     ]
    }
   ],
   "source": [
    "# проверяем, появились или нет\n",
    "all_rows = execute_query(\"select * from users2\", fetch_result=True)\n",
    "for row, value in enumerate(all_rows):\n",
    "    print(row, value)"
   ]
  },
  {
   "cell_type": "code",
   "execution_count": 47,
   "id": "fbfd967d",
   "metadata": {},
   "outputs": [
    {
     "name": "stdout",
     "output_type": "stream",
     "text": [
      "0 Record(name='Pina', photo_count=1)\n",
      "1 Record(name='Mark', photo_count=1)\n",
      "2 Record(name='Ann', photo_count=1)\n",
      "3 Record(name='Alice', photo_count=3)\n",
      "4 Record(name='Jin', photo_count=2)\n",
      "5 Record(name='Rob', photo_count=1)\n",
      "6 Record(name='Dima', photo_count=2)\n"
     ]
    }
   ],
   "source": [
    "# посчитаем, сколько фотографий сделал каждый пользователь\n",
    "query = \"\"\"select\n",
    "                u.name,\n",
    "                --p.photo_name,\n",
    "                count(*) as photo_count\n",
    "                \n",
    "           from users2 u\n",
    "           left join photos p\n",
    "           on u.user_id=p.author_id\n",
    "           group by u.name\n",
    "           \n",
    "        \"\"\"\n",
    "all_rows = execute_query(query, fetch_result=True)\n",
    "for row, value in enumerate(all_rows):\n",
    "    print(row, value)"
   ]
  },
  {
   "cell_type": "code",
   "execution_count": 48,
   "id": "33ea5963",
   "metadata": {},
   "outputs": [
    {
     "name": "stdout",
     "output_type": "stream",
     "text": [
      "0 Record(user_from=1, name='Mark', like_count=1)\n",
      "1 Record(user_from=3, name='Pina', like_count=1)\n",
      "2 Record(user_from=2, name='Dima', like_count=1)\n",
      "3 Record(user_from=5, name='Rob', like_count=1)\n",
      "4 Record(user_from=4, name='Alice', like_count=1)\n"
     ]
    }
   ],
   "source": [
    "# посчитаем, сколько лайков поставил каждый пользователь\n",
    "query = \"\"\"select\n",
    "                l.user_from,\n",
    "                u.name,\n",
    "                count(*) as like_count\n",
    "                \n",
    "           from likes l\n",
    "           left join users2 u\n",
    "           on l.user_from=u.user_id\n",
    "           group by l.user_from, u.name\n",
    "           \n",
    "        \"\"\"\n",
    "all_rows = execute_query(query, fetch_result=True)\n",
    "for row, value in enumerate(all_rows):\n",
    "    print(row, value)"
   ]
  },
  {
   "cell_type": "code",
   "execution_count": 49,
   "id": "58788977",
   "metadata": {},
   "outputs": [
    {
     "name": "stdout",
     "output_type": "stream",
     "text": [
      "0 Record(user_to=1, name='Mark', like_count=1)\n",
      "1 Record(user_to=7, name='Jin', like_count=1)\n",
      "2 Record(user_to=3, name='Pina', like_count=1)\n",
      "3 Record(user_to=4, name='Alice', like_count=1)\n",
      "4 Record(user_to=6, name='Ann', like_count=1)\n"
     ]
    }
   ],
   "source": [
    "# посчитаем, сколько лайков получил каждый пользователь (независимо от того за персону, фото или комментарий)\n",
    "query = \"\"\"select\n",
    "                l.user_to,\n",
    "                u.name,\n",
    "                count(*) as like_count\n",
    "                \n",
    "           from likes l\n",
    "           left join users2 u\n",
    "           on l.user_to=u.user_id\n",
    "           group by l.user_to, u.name\n",
    "           \n",
    "        \"\"\"\n",
    "all_rows = execute_query(query, fetch_result=True)\n",
    "for row, value in enumerate(all_rows):\n",
    "    print(row, value)"
   ]
  },
  {
   "cell_type": "code",
   "execution_count": null,
   "id": "86c2ee9f",
   "metadata": {},
   "outputs": [],
   "source": []
  }
 ],
 "metadata": {
  "kernelspec": {
   "display_name": "Python 3",
   "language": "python",
   "name": "python3"
  },
  "language_info": {
   "codemirror_mode": {
    "name": "ipython",
    "version": 3
   },
   "file_extension": ".py",
   "mimetype": "text/x-python",
   "name": "python",
   "nbconvert_exporter": "python",
   "pygments_lexer": "ipython3",
   "version": "3.8.8"
  }
 },
 "nbformat": 4,
 "nbformat_minor": 5
}
